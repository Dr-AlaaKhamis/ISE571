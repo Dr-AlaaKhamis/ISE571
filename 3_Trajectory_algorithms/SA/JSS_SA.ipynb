{
  "nbformat": 4,
  "nbformat_minor": 0,
  "metadata": {
    "colab": {
      "provenance": []
    },
    "kernelspec": {
      "name": "python3",
      "display_name": "Python 3"
    },
    "language_info": {
      "name": "python"
    }
  },
  "cells": [
    {
      "cell_type": "markdown",
      "source": [
        "Required Imports\n"
      ],
      "metadata": {
        "id": "Jkl8SRaoNY-E"
      }
    },
    {
      "cell_type": "code",
      "source": [
        "import random\n",
        "import math\n",
        "import matplotlib.pyplot as plt"
      ],
      "metadata": {
        "id": "4ikTe2F_L7sN"
      },
      "execution_count": null,
      "outputs": []
    },
    {
      "cell_type": "markdown",
      "source": [
        "Problem Definition:\n",
        "\n",
        "We have 6 jobs and 3 machines\n",
        "\n"
      ],
      "metadata": {
        "id": "UBLKWzfRMa2p"
      }
    },
    {
      "cell_type": "code",
      "source": [
        "# Problem definition\n",
        "num_jobs = 6\n",
        "num_machines = 3\n",
        "processing_times = [2, 3, 4, 6, 2, 2]"
      ],
      "metadata": {
        "id": "w-G3U2CYMANK"
      },
      "execution_count": null,
      "outputs": []
    },
    {
      "cell_type": "markdown",
      "source": [
        "Cost Function:\n",
        "\n",
        "Makespan"
      ],
      "metadata": {
        "id": "Fa63l0NwMzQl"
      }
    },
    {
      "cell_type": "code",
      "source": [
        "def makespan(solution):\n",
        "    \"\"\"\n",
        "    Given a solution (list of length num_jobs),\n",
        "    solution[j] = machine (0-based) to which job j is assigned.\n",
        "    Returns the maximum load among all machines.\n",
        "    \"\"\"\n",
        "    loads = [0] * num_machines\n",
        "    for job_index, machine_id in enumerate(solution):\n",
        "        loads[machine_id] += processing_times[job_index]\n",
        "    return max(loads)\n"
      ],
      "metadata": {
        "id": "ebb1PUlGM5jW"
      },
      "execution_count": null,
      "outputs": []
    },
    {
      "cell_type": "markdown",
      "source": [
        "Neighberhood Operator"
      ],
      "metadata": {
        "id": "p0_ByN4kNG6W"
      }
    },
    {
      "cell_type": "code",
      "source": [
        "def generate_neighbor(solution):\n",
        "    \"\"\"\n",
        "    Generate a neighbor by moving exactly one job to a different random machine.\n",
        "    \"\"\"\n",
        "    neighbor = solution[:]\n",
        "    job_to_move = random.randint(0, num_jobs - 1)\n",
        "    current_machine = neighbor[job_to_move]\n",
        "\n",
        "    # Move the chosen job to a different machine\n",
        "    possible_machines = list(range(num_machines))\n",
        "    possible_machines.remove(current_machine)\n",
        "    new_machine = random.choice(possible_machines)\n",
        "\n",
        "    neighbor[job_to_move] = new_machine\n",
        "    return neighbor"
      ],
      "metadata": {
        "id": "j-tL93syNJam"
      },
      "execution_count": null,
      "outputs": []
    },
    {
      "cell_type": "markdown",
      "source": [
        "Simulated Annealing Parameters & Routine"
      ],
      "metadata": {
        "id": "L8RY-XoXNYB5"
      }
    },
    {
      "cell_type": "code",
      "source": [
        "def simulated_annealing(\n",
        "    initial_temp=100.0,\n",
        "    alpha=0.8,\n",
        "    min_temp=0.1,\n",
        "    iterations_per_temp=2\n",
        "):\n",
        "    \"\"\"\n",
        "    Runs a simulated annealing process until temperature < min_temp,\n",
        "    doing `iterations_per_temp` iterations at each temperature stage.\n",
        "    Returns (best_solution, best_cost).\n",
        "    \"\"\"\n",
        "    # Random initial solution\n",
        "    current_solution = [random.randint(0, num_machines - 1) for _ in range(num_jobs)]\n",
        "    current_cost = makespan(current_solution)\n",
        "\n",
        "    best_solution = current_solution[:]\n",
        "    best_cost = current_cost\n",
        "\n",
        "    T = initial_temp\n",
        "    iteration_count = 0\n",
        "\n",
        "    while T > min_temp:\n",
        "        for _ in range(iterations_per_temp):\n",
        "            iteration_count += 1\n",
        "\n",
        "            # Generate neighbor\n",
        "            neighbor_solution = generate_neighbor(current_solution)\n",
        "            neighbor_cost = makespan(neighbor_solution)\n",
        "\n",
        "            # Decide acceptance\n",
        "            if neighbor_cost <= current_cost:\n",
        "                # Better or equal => accept\n",
        "                current_solution = neighbor_solution\n",
        "                current_cost = neighbor_cost\n",
        "            else:\n",
        "                # Worse => accept with probability e^(-delta/T)\n",
        "                delta = neighbor_cost - current_cost\n",
        "                acceptance_prob = math.exp(-delta / T)\n",
        "                if random.random() < acceptance_prob:\n",
        "                    current_solution = neighbor_solution\n",
        "                    current_cost = neighbor_cost\n",
        "\n",
        "            # Update global best if needed\n",
        "            if current_cost < best_cost:\n",
        "                best_solution = current_solution[:]\n",
        "                best_cost = current_cost\n",
        "\n",
        "        # After doing 'iterations_per_temp' at temp T, cool down\n",
        "        T *= alpha\n",
        "\n",
        "    return best_solution, best_cost, iteration_count, T\n"
      ],
      "metadata": {
        "id": "nayF0DUENpbU"
      },
      "execution_count": null,
      "outputs": []
    },
    {
      "cell_type": "markdown",
      "source": [
        "Gantt Chart Visualization"
      ],
      "metadata": {
        "id": "dRtinLLQNxEo"
      }
    },
    {
      "cell_type": "code",
      "source": [
        "def visualize_schedule(solution):\n",
        "    \"\"\"\n",
        "    Produce a Gantt-style chart of the final (best) schedule.\n",
        "    solution[j] = machine ID (0-based) for job j (0-based).\n",
        "\n",
        "    We will schedule the jobs on each machine in ascending order of job ID\n",
        "    just for visualization. We assume each job on a machine starts\n",
        "    immediately after the previous job on that machine finishes.\n",
        "    \"\"\"\n",
        "    # Group jobs by machine\n",
        "    jobs_on_machine = {m: [] for m in range(num_machines)}\n",
        "    for job_index, m_id in enumerate(solution):\n",
        "        jobs_on_machine[m_id].append(job_index)\n",
        "\n",
        "    # Sort each machine's jobs by their ID (just a simple approach)\n",
        "    for m_id in jobs_on_machine:\n",
        "        jobs_on_machine[m_id].sort()\n",
        "\n",
        "    # We'll make a horizontal bar chart where:\n",
        "    # y = machine index, left = start_time, width = processing_time\n",
        "    fig, ax = plt.subplots(figsize=(8, 4))\n",
        "    colors = [\n",
        "        'tab:blue', 'tab:orange', 'tab:green',\n",
        "        'tab:red', 'tab:purple', 'tab:brown'\n",
        "    ]\n",
        "\n",
        "    # For each machine, build the schedule in ascending job ID\n",
        "    for m_id in range(num_machines):\n",
        "        current_start = 0\n",
        "        for job_index in jobs_on_machine[m_id]:\n",
        "            duration = processing_times[job_index]\n",
        "            # Plot a bar: y = (machine index), left = current_start, width=duration\n",
        "            # We'll color by job_index to differentiate\n",
        "            color = colors[job_index % len(colors)]\n",
        "            ax.barh(\n",
        "                y=m_id,\n",
        "                width=duration,\n",
        "                left=current_start,\n",
        "                height=0.4,\n",
        "                color=color,\n",
        "                edgecolor='black'\n",
        "            )\n",
        "            # Label the bar with \"Job i\" (1-based)\n",
        "            ax.text(\n",
        "                x=current_start + duration/2,\n",
        "                y=m_id,\n",
        "                s=f\"J{job_index+1}\",\n",
        "                va='center',\n",
        "                ha='center',\n",
        "                color='white',\n",
        "                fontsize=9,\n",
        "                fontweight='bold'\n",
        "            )\n",
        "            current_start += duration\n",
        "\n",
        "    # Label the machines on the y-axis as 1..3\n",
        "    ax.set_yticks(range(num_machines))\n",
        "    ax.set_yticklabels([f\"M{i+1}\" for i in range(num_machines)])\n",
        "\n",
        "    ax.set_xlabel(\"Time\")\n",
        "    ax.set_title(\"Final Schedule Gantt Chart\")\n",
        "    plt.tight_layout()\n",
        "    plt.show()\n"
      ],
      "metadata": {
        "id": "S8qTwoonN0lG"
      },
      "execution_count": null,
      "outputs": []
    },
    {
      "cell_type": "markdown",
      "source": [
        "Main Execution Cell"
      ],
      "metadata": {
        "id": "gRHuo9EXN7ji"
      }
    },
    {
      "cell_type": "code",
      "source": [
        "if __name__ == \"__main__\":\n",
        "    # Optional: fix the random seed for reproducibility\n",
        "    # random.seed(42)\n",
        "\n",
        "    best_sol, best_cost, iters, final_temp = simulated_annealing(\n",
        "        initial_temp=100.0,\n",
        "        alpha=0.8,\n",
        "        min_temp=0.1,\n",
        "        iterations_per_temp=2\n",
        "    )\n",
        "\n",
        "    print(\"SIMULATED ANNEALING FINISHED.\")\n",
        "    print(f\"Number of iterations performed: {iters}\")\n",
        "    print(f\"Final temperature: {final_temp:.4f}\")\n",
        "\n",
        "    # Convert to 1-based machine indexing for display\n",
        "    one_based_sol = [m+1 for m in best_sol]\n",
        "\n",
        "    print(f\"Best solution found (machine assignment): {one_based_sol}\")\n",
        "    print(\"Assignment detail (Job i → Machine):\")\n",
        "    for job_index, m_id in enumerate(one_based_sol, start=1):\n",
        "        print(f\"  Job {job_index} → Machine {m_id}\")\n",
        "\n",
        "    print(f\"Best makespan (cost): {best_cost}\")\n",
        "\n",
        "    # Visualize the final schedule\n",
        "    visualize_schedule(best_sol)\n"
      ],
      "metadata": {
        "colab": {
          "base_uri": "https://localhost:8080/",
          "height": 621
        },
        "id": "BBDeI4OEN6N6",
        "outputId": "93652d13-a694-41f7-c566-c0887ae54d0a"
      },
      "execution_count": null,
      "outputs": [
        {
          "output_type": "stream",
          "name": "stdout",
          "text": [
            "SIMULATED ANNEALING FINISHED.\n",
            "Number of iterations performed: 62\n",
            "Final temperature: 0.0990\n",
            "Best solution found (machine assignment): [1, 3, 3, 2, 1, 1]\n",
            "Assignment detail (Job i → Machine):\n",
            "  Job 1 → Machine 1\n",
            "  Job 2 → Machine 3\n",
            "  Job 3 → Machine 3\n",
            "  Job 4 → Machine 2\n",
            "  Job 5 → Machine 1\n",
            "  Job 6 → Machine 1\n",
            "Best makespan (cost): 7\n"
          ]
        },
        {
          "output_type": "display_data",
          "data": {
            "text/plain": [
              "<Figure size 800x400 with 1 Axes>"
            ],
            "image/png": "[encoded data removed]"
          },
          "metadata": {}
        }
      ]
    }
  ]
}