{
 "cells": [
  {
   "cell_type": "markdown",
   "id": "e00446b3-c763-45c2-989e-c2110f4ee45d",
   "metadata": {},
   "source": [
    "# Solving N-Queen Problem using Tabu Search"
   ]
  },
  {
   "cell_type": "code",
   "execution_count": 1,
   "id": "1a097540-38a6-4c29-9167-976afa18d35f",
   "metadata": {},
   "outputs": [],
   "source": [
    "import random\n",
    "import numpy as np\n",
    "import matplotlib.pyplot as plt"
   ]
  },
  {
   "cell_type": "code",
   "execution_count": 2,
   "id": "80880bfc",
   "metadata": {},
   "outputs": [],
   "source": [
    "# Get the initial state\n",
    "def get_initial_state(board_size):\n",
    "    queens = list(range(board_size))\n",
    "    random.shuffle(queens)\n",
    "    return queens"
   ]
  },
  {
   "cell_type": "code",
   "execution_count": 3,
   "id": "2d248df4-6f05-4c81-8815-02f9e1cb9686",
   "metadata": {},
   "outputs": [],
   "source": [
    "# Calculate the number of attacking queens on the board\n",
    "def num_attacking_queens(queens):\n",
    "    board_size = len(queens)\n",
    "    num_attacks = 0\n",
    "    for i in range(board_size):\n",
    "        for j in range(i + 1, board_size):\n",
    "            if queens[i] == queens[j] or abs(queens[i] - queens[j]) == j - i:\n",
    "                num_attacks += 1\n",
    "    return num_attacks"
   ]
  },
  {
   "cell_type": "code",
   "execution_count": 4,
   "id": "580e9c18-95b4-42fb-a08b-a37c97da396c",
   "metadata": {},
   "outputs": [],
   "source": [
    "# Get the best move\n",
    "def get_best_move(queens, tabu_list):\n",
    "    board_size = len(queens)\n",
    "    best_move = None\n",
    "    best_num_attacks = board_size * (board_size - 1) // 2\n",
    "    for i in range(board_size):\n",
    "        for j in range(board_size):\n",
    "            if queens[i] != j:\n",
    "                new_queens = queens.copy()\n",
    "                new_queens[i] = j\n",
    "                if str(new_queens) not in tabu_list:\n",
    "                    num_attacks = num_attacking_queens(new_queens)\n",
    "                    if num_attacks < best_num_attacks:\n",
    "                        best_move = (i, j)\n",
    "                        best_num_attacks = num_attacks\n",
    "    return best_move"
   ]
  },
  {
   "cell_type": "code",
   "execution_count": 5,
   "id": "15067f55-6c33-41b9-a99d-4f7aa23631ad",
   "metadata": {},
   "outputs": [],
   "source": [
    "# Update the tabu list\n",
    "def update_tabu_list(tabu_list, tabu_tenure, move):\n",
    "    tabu_list.append(str(move))\n",
    "    if len(tabu_list) > tabu_tenure:\n",
    "        tabu_list.pop(0)"
   ]
  },
  {
   "cell_type": "code",
   "execution_count": 6,
   "id": "570b9ccd-707d-44d0-8bf6-208eab92e07f",
   "metadata": {},
   "outputs": [],
   "source": [
    "# Tabu search\n",
    "def tabu_search(num_iterations, tabu_tenure, max_non_improvement, queens):\n",
    "    num_non_improvement = 0\n",
    "    best_queens = queens\n",
    "    best_num_attacks = num_attacking_queens(queens)\n",
    "    tabu_list = []\n",
    "\n",
    "    for i in range(num_iterations):\n",
    "        move = get_best_move(queens, tabu_list)\n",
    "        if move is not None:\n",
    "            queens[move[0]] = move[1]\n",
    "            update_tabu_list(tabu_list, tabu_tenure, move)\n",
    "            num_attacks = num_attacking_queens(queens)\n",
    "            if num_attacks < best_num_attacks:\n",
    "                best_queens = queens\n",
    "                best_num_attacks = num_attacks\n",
    "                num_non_improvement = 0\n",
    "        else:\n",
    "            num_non_improvement += 1\n",
    "            if num_non_improvement >= max_non_improvement:\n",
    "                break\n",
    "\n",
    "    return best_queens, num_attacks"
   ]
  },
  {
   "cell_type": "code",
   "execution_count": 7,
   "id": "c7f97786-3657-4124-a312-2f81b121dc89",
   "metadata": {},
   "outputs": [],
   "source": [
    "# Solve the problem using Tabu Search\n",
    "\n",
    "# Set board size for nxn Queeen problem\n",
    "board_size = 7\n",
    "\n",
    "# Define the number of iterations for the search\n",
    "num_iterations = 2000\n",
    "\n",
    "# Define the tabu tenure\n",
    "tabu_tenure = 10\n",
    "\n",
    "# Define the number of moves without improvement before considering a solution is stuck\n",
    "max_non_improvement = 50\n",
    "\n",
    "best_board, num_attacks=tabu_search(num_iterations, tabu_tenure, max_non_improvement, get_initial_state(board_size))"
   ]
  },
  {
   "cell_type": "code",
   "execution_count": 8,
   "id": "880afa0d-1a3c-4817-be03-bc6c63bcd173",
   "metadata": {},
   "outputs": [
    {
     "name": "stdout",
     "output_type": "stream",
     "text": [
      "Best found board is  [3, 5, 2, 4, 1, 3, 0]\n",
      "Number of attacks in the best found board is  2\n"
     ]
    }
   ],
   "source": [
    "print(\"Best found board is \", best_board)\n",
    "print(\"Number of attacks in the best found board is \", num_attacks)"
   ]
  },
  {
   "cell_type": "code",
   "execution_count": 9,
   "id": "1ff27604-8a93-4ad5-af06-c02e87f11522",
   "metadata": {},
   "outputs": [
    {
     "data": {
      "text/plain": [
       "[<matplotlib.lines.Line2D at 0x187fb6c8590>]"
      ]
     },
     "execution_count": 9,
     "metadata": {},
     "output_type": "execute_result"
    },
    {
     "data": {
      "image/png": "[encoded data removed]",
      "text/plain": [
       "<Figure size 500x500 with 1 Axes>"
      ]
     },
     "metadata": {},
     "output_type": "display_data"
    }
   ],
   "source": [
    "# Visualizae the solution\n",
    "all_queens = range(board_size)\n",
    "states=[]\n",
    "soln=np.array(best_board)\n",
    "for i in all_queens:\n",
    "    for j in all_queens:\n",
    "        if best_board[j] == i:\n",
    "            # There is a queen in column j, row i.\n",
    "            states.append(True)\n",
    "        else:\n",
    "            states.append(None)     \n",
    "            \n",
    "states=np.array(states).reshape(-1, board_size)\n",
    "\n",
    "fig = plt.figure(figsize=(5,5))\n",
    "# # Convert 2D board to 1D marker list\n",
    "markers = [\n",
    "    x.tolist().index(True) if True in x.tolist() else None\n",
    "    for x in states\n",
    "]\n",
    "res = np.add.outer(range(board_size), range(board_size)) % 2\n",
    "plt.imshow(res, cmap=\"binary_r\")\n",
    "plt.xticks([])\n",
    "plt.yticks([])\n",
    "plt.plot(markers, marker=\"*\", linestyle=\"None\", markersize=100/board_size, color=\"y\")\n",
    "# plt.savefig('CH06_F17_NQueen.png', format='png', dpi=300)"
   ]
  }
 ],
 "metadata": {
  "kernelspec": {
   "display_name": "ox",
   "language": "python",
   "name": "python3"
  },
  "language_info": {
   "codemirror_mode": {
    "name": "ipython",
    "version": 3
   },
   "file_extension": ".py",
   "mimetype": "text/x-python",
   "name": "python",
   "nbconvert_exporter": "python",
   "pygments_lexer": "ipython3",
   "version": "3.12.5"
  },
  "vscode": {
   "interpreter": {
    "hash": "899ff88a75886fc7a7b40f2d92fee8f59f6284588a3bf99939bb8f65c5caf859"
   }
  }
 },
 "nbformat": 4,
 "nbformat_minor": 5
}
