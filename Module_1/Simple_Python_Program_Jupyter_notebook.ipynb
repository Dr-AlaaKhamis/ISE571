{
 "cells": [
  {
   "cell_type": "markdown",
   "id": "2045d814",
   "metadata": {},
   "source": [
    "# Circle Calculator\n",
    "\n",
    "Python program to calculate area and circumference of a circle in a Jupyter Notebook format, broken into separate cells for modularity and better readability\n",
    "\n",
    "<img src=\"Circle.png\" alt=\"Circle Calculator\" width=\"400\">"
   ]
  },
  {
   "cell_type": "markdown",
   "id": "201d581b",
   "metadata": {},
   "source": [
    "### Import necessary libraries"
   ]
  },
  {
   "cell_type": "code",
   "execution_count": 1,
   "id": "93b1c70e",
   "metadata": {},
   "outputs": [],
   "source": [
    "import math"
   ]
  },
  {
   "cell_type": "markdown",
   "id": "6b983191",
   "metadata": {},
   "source": [
    "### Define constants"
   ]
  },
  {
   "cell_type": "code",
   "execution_count": 2,
   "id": "12592408",
   "metadata": {},
   "outputs": [],
   "source": [
    "PI = 3.14159"
   ]
  },
  {
   "cell_type": "markdown",
   "id": "7321f4d3",
   "metadata": {},
   "source": [
    "### Define a circle class"
   ]
  },
  {
   "cell_type": "code",
   "execution_count": 3,
   "id": "f9a4f278",
   "metadata": {},
   "outputs": [],
   "source": [
    "class Circle:\n",
    "\n",
    "    # Initialize the circle with a radius\n",
    "    def __init__(self, radius):\n",
    "        self.radius = radius\n",
    "\n",
    "    # Calculate the area of the circle\n",
    "    def calculate_area(self):\n",
    "        return PI * self.radius ** 2\n",
    "\n",
    "    # Calculate the circumference of the circle\n",
    "    def calculate_circumference(self):\n",
    "        return 2 * PI * self.radius"
   ]
  },
  {
   "cell_type": "markdown",
   "id": "885a788a",
   "metadata": {},
   "source": [
    "### Define a function to  greet the user"
   ]
  },
  {
   "cell_type": "code",
   "execution_count": 4,
   "id": "e4b3a008",
   "metadata": {},
   "outputs": [],
   "source": [
    "def greet_user():\n",
    "    print(\"Welcome to the Circle Calculator!\")"
   ]
  },
  {
   "cell_type": "markdown",
   "id": "8c5f87ea",
   "metadata": {},
   "source": [
    "### Main program execution"
   ]
  },
  {
   "cell_type": "code",
   "execution_count": 5,
   "id": "2b2700b4",
   "metadata": {},
   "outputs": [
    {
     "name": "stdout",
     "output_type": "stream",
     "text": [
      "Welcome to the Circle Calculator!\n",
      "The area of the circle is: 530.92871\n",
      "The circumference of the circle is: 81.68133999999999\n"
     ]
    }
   ],
   "source": [
    "# Greet the user\n",
    "greet_user()\n",
    "\n",
    "# Get user input\n",
    "radius = float(input(\"Enter the radius of the circle: \"))\n",
    "\n",
    "# Create a Circle object\n",
    "circle = Circle(radius)\n",
    "\n",
    "# Perform calculations\n",
    "area = circle.calculate_area()\n",
    "circumference = circle.calculate_circumference()\n",
    "\n",
    "# Display results\n",
    "print(f\"The area of the circle is: {area}\")\n",
    "print(f\"The circumference of the circle is: {circumference}\")"
   ]
  }
 ],
 "metadata": {
  "kernelspec": {
   "display_name": "ox",
   "language": "python",
   "name": "python3"
  },
  "language_info": {
   "codemirror_mode": {
    "name": "ipython",
    "version": 3
   },
   "file_extension": ".py",
   "mimetype": "text/x-python",
   "name": "python",
   "nbconvert_exporter": "python",
   "pygments_lexer": "ipython3",
   "version": "3.13.1"
  }
 },
 "nbformat": 4,
 "nbformat_minor": 5
}
