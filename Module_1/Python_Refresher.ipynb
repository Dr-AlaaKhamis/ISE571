{
 "cells": [
  {
   "cell_type": "markdown",
   "metadata": {
    "id": "6-VA1v4W5q1H"
   },
   "source": [
    "# Python Refresher Crash Course"
   ]
  },
  {
   "cell_type": "markdown",
   "metadata": {
    "id": "ay9mgFSO5q1M"
   },
   "source": [
    "## Introduction"
   ]
  },
  {
   "cell_type": "markdown",
   "metadata": {
    "id": "fcfkw97U5q1N"
   },
   "source": [
    "Python is a general-purpose programming language on its own, but with the help of a few popular libraries (NumPy, SciPy, Matplotlib) it becomes a powerful environment for scientific computing.\n",
    "\n",
    "This practical guide serves as a quick crash course both on the Python programming language and on the use of Python for scientific computing."
   ]
  },
  {
   "cell_type": "markdown",
   "metadata": {},
   "source": [
    "# Setting up the Python environment"
   ]
  },
  {
   "cell_type": "markdown",
   "metadata": {},
   "source": [
    "For installation instructions specific to your operating system, see this Beginner’s Guide: https://wiki.python.org/moin/BeginnersGuide/.\n",
    "\n",
    "For Windows, you can follow these steps to install Python:\n",
    "\n",
    "1. Go to the official website: [www.python.org/downloads/ ](https://www.python.org/downloads/).\n",
    "2. Select the version of Python to install.\n",
    "3. Download the Python executable installer.\n",
    "4. Run the executable installer. Make sure you check the Install Launcher for all users and Add Python to PATH checkboxes.\n",
    "5. Verify that Python was successfully installed by typing `python –V` in a command prompt.\n",
    "6. Verify that `pip` was installed by typing `pip -V` in a command prompt.\n",
    "7. Install virtualenv by typing pip install virtualenv in a command prompt.\n",
    "\n",
    "If you are a Linux user, check Appendix A of the textbook: [Optimization Algorithm](https://www.manning.com/books/optimization-algorithms)\n",
    "\n",
    "To intsall Python using Puthon distribution, such as Anaconda or Miniconda, use with a package manager called conda that allows you to install a wide range of Python packages and manage different Python environments. Install conda for your OS using the guide found here: https://conda.io/projects/conda/en/latest/user-guide/install/index.html.\n",
    "\n",
    "Conda environments are used to manage multiple installations of different versions of Python packages and their dependencies. You can create a `conda` environment with this command:\n",
    "\n",
    "```\n",
    "$ conda create --name <name of env> python=<your version of python>\n",
    "```\n",
    "\n",
    "Access the newly created environment like this:\n",
    "```\n",
    "$ conda activate <your env name>\n",
    "```\n",
    "\n",
    "***"
   ]
  },
  {
   "cell_type": "markdown",
   "metadata": {},
   "source": [
    "# Jupyter"
   ]
  },
  {
   "cell_type": "markdown",
   "metadata": {
    "id": "G23WvHXwSWM9"
   },
   "source": [
    "Jupyter (previously called the IPython Notebook) is a multi-language, open-source web-based platform for interactive programming (https://jupyter.org/). The name “Jupyter” is a loose acronym meaning Julia, Python, and R. All of the code in this book is stored in Jupyter notebooks (.ipynb files), which can be opened and edited using JupyterLab or Jupyter Notebook. Jupyter Notebook feels more standalone, but JupyterLab feels more like an IDE.\n",
    "\n",
    "You can install JupyterLab using `pip` as follows:\n",
    "```\n",
    "$ pip install jupyterlab\n",
    "$ pip install notebook\n",
    "```\n",
    "\n",
    "Or using conda as follows:\n",
    "```\n",
    "$ conda install -c conda-forge jupyterlab\n",
    "$ conda install -c conda-forge notebook\n",
    "```\n",
    "\n",
    "You can install the Python ipywidgets package to automatically configure classic Jupyter Notebook and JupyterLab 3.0 to display ipywidgets using pip or conda as follows:\n",
    "```\n",
    "$ pip install ipywidgets\n",
    "$ conda install -c conda-forge ipywidgets\n",
    "```\n",
    "\n",
    "If you have an old version of Jupyter Notebook installed, you may need to manually enable the ipywidgets notebook extension with these commands:\n",
    "```\n",
    "$ jupyter nbextension install --user --py widgetsnbextension\n",
    "$ jupyter nbextension enable --user --py widgetsnbextension\n",
    "```\n",
    "\n",
    "Jupyter allows you to write and execute Python code snippets in your browser. Each code snippet is placed in a cell. A cell can be executed by clicking inside it and pressing `Shift`+`Enter` or by clicking the `Run` button in the menu bar at the top.\n",
    "\n",
    "#### A note about variables\n",
    "\n",
    "Note that variables within a cell are stored for global use by other cells after that cell's execution. The side effect is that you can initialise a variable in one cell, run that cell, delete that cell, and the variable would still be available. Another side effect is that if a cell is updated, you have to run the consecutive cells in order for them to pick up the updated results. If this note does not make complete sense now, that's okay: complete the rest of the practical and then come back to make sure you understand what it says.\n",
    "\n",
    "#### Markdown\n",
    "\n",
    "This text here is readable because this cell's type is set to `Markdown` (see the type in the menu bar). Here is some [basic Markdown syntax](https://help.github.com/articles/markdown-basics/). You can create your own Markdown cells and leave notes and comments.\n",
    "\n",
    "When writing mathematics in a Markdown cell, you can use LaTex-like equations. For example, placing `c_1\\sin(x) + c^2_2\\,{\\rm sinc}(\\frac{\\pi}{c})` in between double dollar signs will produce an equation on a separate line: $$c_1\\sin(x) + c^2_2\\,{\\rm sinc}(\\frac{\\pi}{c})$$\n",
    "Placing `ax+b` in between single dollar signs will produce $ax+b$ inline.\n",
    "\n",
    "***"
   ]
  },
  {
   "cell_type": "markdown",
   "metadata": {},
   "source": [
    "# Google Colaboratory (Colab) and Lightning AI \n",
    "\n",
    "Google Colaboratory (Colab) and Lightning AI  can also be used. These cloud-based tool allows you to write, execute, and share Python code through the browser. It also provides free access to GPU and TPU for increased computational power. You can access Colab here: https://colab.research.google.com/ and Lightning AI here: https://lightning.ai/.\n",
    "\n",
    "***"
   ]
  },
  {
   "cell_type": "markdown",
   "metadata": {
    "id": "CV6OV42I5q1R"
   },
   "source": [
    "# Python"
   ]
  },
  {
   "cell_type": "markdown",
   "metadata": {
    "id": "B9MacMaY5q1T"
   },
   "source": [
    "Python is the most popular and widely used computer programming language, particularly in the fields of Data Science and Machine Learning. It is a high-level, dynamically typed multiparadigm programming language. Python code is often said to be almost like pseudocode, since it allows you to express very powerful ideas in very few lines of code while being very readable.\n",
    "\n",
    "As of Q1 2024, these are the most commonly used programming languages:\n",
    "\n",
    "| **Ranking** | **Programming Language** | **Percentage (YoY Change)** |\n",
    "|-------------|--------------------------|-----------------------------|\n",
    "| `1 `          | `Python`                   | `16.925% (-0.284%)`           |\n",
    "| 2           | Java                     | 11.708% (+0.393%)           |\n",
    "| 3           | Go                       | 10.262% (-0.162%)           |\n",
    "| 4           | JavaScript               | 9.859% (+0.306%)            |\n",
    "| 5           | C++                      | 9.459% (-0.624%)            |\n",
    "| 6           | TypeScript               | 7.345% (-0.554%)            |\n",
    "| 7           | PHP                      | 5.665% (+0.357%)            |\n",
    "| 8           | Ruby                     | 4.706% (-0.307%)            |\n",
    "| 9           | C                        | 4.616% (+0.208%)            |\n",
    "| 10          | C#                       | 3.442% (+0.300%)            |\n",
    "\n",
    "Source: https://madnight.github.io/githut/#/pull_requests/2024/1 \n"
   ]
  },
  {
   "cell_type": "markdown",
   "metadata": {
    "id": "LfhFbB8Z5q1i"
   },
   "source": [
    "### Python versions"
   ]
  },
  {
   "cell_type": "markdown",
   "metadata": {
    "id": "cJCjzx7Y5q1k"
   },
   "source": [
    "There are currently two different supported versions of Python, [2.7](https://docs.python.org/2/index.html/) and [3.6](https://docs.python.org/3.6/). Somewhat confusingly, Python 3.0 introduced many backwards-incompatible changes to the language, so code written for 2.7 may not work under 3.6 and vice versa. For this class,  all code will use Python 3.6.\n",
    "\n",
    "You can check your Python version at the command line by running `python --version`."
   ]
  },
  {
   "cell_type": "code",
   "execution_count": 1,
   "metadata": {
    "id": "gJz5Fuv6C0T4"
   },
   "outputs": [
    {
     "name": "stdout",
     "output_type": "stream",
     "text": [
      "Python 3.13.1\n"
     ]
    }
   ],
   "source": [
    "!python --version"
   ]
  },
  {
   "cell_type": "markdown",
   "metadata": {
    "id": "dce_pODNDGFi"
   },
   "source": [
    "There are quite a few major housekeeping changes beween Python 2 and Python 3. For those of you who are more comfortable with Python 2, note the follow changes:\n",
    "\n",
    "| Python 2                                             | Python 3                                 |\n",
    "|------------------------------------------------------|------------------------------------------|\n",
    "| ```print``` brackets optional                              | ```print``` brackets compulsory                |\n",
    "| Integer division always returns integer              | Integer division may return float        |\n",
    "| ```Raw_input()``` reads string                             | ```Raw_input()``` is not available             |\n",
    "| ```generator.next()```                                     | ```next(generator)```                          |\n",
    "| % string format operator                             | % deprecated use ```.format()``` or ```concat()```   |\n",
    "| ```dict.iteritems()```, ```dict.iterkeys()```, ```dict.itervalues()``` | ```dict.items()```, ```dict.keys()```, ```dict.values()``` |\n",
    "| Prefix string with ```u``` for unicode                     | Unicode by default                       |\n",
    "\n",
    "\n",
    "***"
   ]
  },
  {
   "cell_type": "markdown",
   "metadata": {
    "id": "sotHVM0t5q1l"
   },
   "source": [
    "# Basic data types"
   ]
  },
  {
   "cell_type": "markdown",
   "metadata": {
    "id": "THkpPxwN5q1n"
   },
   "source": [
    "#### Numbers"
   ]
  },
  {
   "cell_type": "markdown",
   "metadata": {
    "id": "f3xyLvxW5q1o"
   },
   "source": [
    "Integers and floats work as you would expect from other languages:"
   ]
  },
  {
   "cell_type": "code",
   "execution_count": 2,
   "metadata": {
    "id": "bVYQAovh5q1q"
   },
   "outputs": [
    {
     "name": "stdout",
     "output_type": "stream",
     "text": [
      "3 <class 'int'>\n"
     ]
    }
   ],
   "source": [
    "x = 3\n",
    "print(x, type(x))"
   ]
  },
  {
   "cell_type": "code",
   "execution_count": 3,
   "metadata": {
    "id": "dztfWsYU5q1y"
   },
   "outputs": [
    {
     "name": "stdout",
     "output_type": "stream",
     "text": [
      "4\n",
      "2\n",
      "6\n",
      "9\n"
     ]
    }
   ],
   "source": [
    "print(x + 1)   # Addition;\n",
    "print(x - 1)   # Subtraction;\n",
    "print(x * 2)   # Multiplication;\n",
    "print(x ** 2)  # Exponentiation;"
   ]
  },
  {
   "cell_type": "code",
   "execution_count": 4,
   "metadata": {
    "id": "gOmd8lBF5q16"
   },
   "outputs": [
    {
     "name": "stdout",
     "output_type": "stream",
     "text": [
      "4\n",
      "8\n"
     ]
    }
   ],
   "source": [
    "x += 1\n",
    "print(x)  # Prints \"4\"\n",
    "x *= 2\n",
    "print(x)  # Prints \"8\""
   ]
  },
  {
   "cell_type": "code",
   "execution_count": 5,
   "metadata": {
    "id": "g4NuhVfj5q2E"
   },
   "outputs": [
    {
     "name": "stdout",
     "output_type": "stream",
     "text": [
      "<class 'float'>\n",
      "2.5 3.5 5.0 6.25\n"
     ]
    }
   ],
   "source": [
    "y = 2.5\n",
    "print(type(y)) # Prints \"<type 'float'>\"\n",
    "print(y, y + 1, y * 2, y ** 2) # Prints \"2.5 3.5 5.0 6.25\""
   ]
  },
  {
   "cell_type": "markdown",
   "metadata": {
    "id": "we75WUci5q2O"
   },
   "source": [
    "Note that unlike many languages, Python does not have unary increment (`x++`) or decrement (`x--`) operators.\n",
    "\n",
    "Python also has built-in types for long integers and complex numbers; you can find all of the details in the [documentation](https://docs.python.org/3.6/library/stdtypes.html#numeric-types-int-float-long-complex)."
   ]
  },
  {
   "cell_type": "markdown",
   "metadata": {
    "id": "uUl_bk835q2P"
   },
   "source": [
    "#### Booleans"
   ]
  },
  {
   "cell_type": "markdown",
   "metadata": {
    "id": "rgeh2qDx5q2Q"
   },
   "source": [
    "Python implements all of the usual operators for Boolean logic, but uses English words rather than symbols (`&&`, `||`, etc.):"
   ]
  },
  {
   "cell_type": "code",
   "execution_count": 6,
   "metadata": {
    "id": "yo6wobrY5q2R"
   },
   "outputs": [
    {
     "name": "stdout",
     "output_type": "stream",
     "text": [
      "<class 'bool'>\n"
     ]
    }
   ],
   "source": [
    "t, f = True, False\n",
    "print(type(t)) # Prints \"<type 'bool'>\""
   ]
  },
  {
   "cell_type": "markdown",
   "metadata": {
    "id": "zsBdYsbJ5q2Z"
   },
   "source": [
    "Now we let's look at the operations:"
   ]
  },
  {
   "cell_type": "code",
   "execution_count": 7,
   "metadata": {
    "id": "BNVhsasL5q2c"
   },
   "outputs": [
    {
     "name": "stdout",
     "output_type": "stream",
     "text": [
      "False\n",
      "True\n",
      "False\n",
      "True\n"
     ]
    }
   ],
   "source": [
    "print(t and f) # Logical AND;\n",
    "print(t or f)  # Logical OR;\n",
    "print(not t)   # Logical NOT;\n",
    "print(t != f)  # Logical XOR;"
   ]
  },
  {
   "cell_type": "markdown",
   "metadata": {
    "id": "jWt1jbF75q2j"
   },
   "source": [
    "#### Strings"
   ]
  },
  {
   "cell_type": "code",
   "execution_count": 8,
   "metadata": {
    "id": "uyldbWX75q2k"
   },
   "outputs": [
    {
     "name": "stdout",
     "output_type": "stream",
     "text": [
      "hello 5\n"
     ]
    }
   ],
   "source": [
    "hello = 'hello'   # String literals can use single quotes\n",
    "world = \"world\"   # or double quotes; it does not matter.\n",
    "print(hello, len(hello))"
   ]
  },
  {
   "cell_type": "code",
   "execution_count": 9,
   "metadata": {
    "id": "69vTXT6m5q2p"
   },
   "outputs": [
    {
     "name": "stdout",
     "output_type": "stream",
     "text": [
      "hello world\n"
     ]
    }
   ],
   "source": [
    "hw = hello + ' ' + world  # String concatenation\n",
    "print(hw)  # prints \"hello world\""
   ]
  },
  {
   "cell_type": "markdown",
   "metadata": {
    "id": "Q-xLTBCM5q2y"
   },
   "source": [
    "String objects have a bunch of useful methods; for example:"
   ]
  },
  {
   "cell_type": "code",
   "execution_count": 10,
   "metadata": {
    "id": "5tMbkHM65q20"
   },
   "outputs": [
    {
     "name": "stdout",
     "output_type": "stream",
     "text": [
      "Hello\n",
      "HELLO\n",
      "  hello\n",
      " hello \n",
      "he(ell)(ell)o\n",
      "world\n"
     ]
    }
   ],
   "source": [
    "s = \"hello\"\n",
    "print(s.capitalize())  # Capitalize a string; prints \"Hello\"\n",
    "print(s.upper())       # Convert a string to uppercase; prints \"HELLO\"\n",
    "print(s.rjust(7))      # Right-justify a string, padding with spaces; prints \"  hello\"\n",
    "print(s.center(7))     # Center a string, padding with spaces; prints \" hello \"\n",
    "print(s.replace('l', '(ell)'))  # Replace all instances of one substring with another;\n",
    "                                # prints \"he(ell)(ell)o\"\n",
    "print('  world '.strip())  # Strip leading and trailing whitespace; prints \"world\""
   ]
  },
  {
   "cell_type": "markdown",
   "metadata": {
    "id": "7iVAp_Hm5q24"
   },
   "source": [
    "You can find a list of all string methods in the [documentation](https://docs.python.org/3/library/stdtypes.html#string-methods).\n",
    "\n",
    "***"
   ]
  },
  {
   "cell_type": "markdown",
   "metadata": {
    "id": "jHCAFmb95q25"
   },
   "source": [
    "# Containers"
   ]
  },
  {
   "cell_type": "markdown",
   "metadata": {
    "id": "-PerHSky5q25"
   },
   "source": [
    "Python includes several built-in container types: lists, dictionaries, sets, and tuples."
   ]
  },
  {
   "cell_type": "markdown",
   "metadata": {
    "id": "f9BNPsMT5q27"
   },
   "source": [
    "#### Lists"
   ]
  },
  {
   "cell_type": "markdown",
   "metadata": {
    "id": "ipDjlY6S5q28"
   },
   "source": [
    "A list is the Python equivalent of an array, but is resizeable and can contain elements of different types:"
   ]
  },
  {
   "cell_type": "code",
   "execution_count": 11,
   "metadata": {},
   "outputs": [
    {
     "name": "stdout",
     "output_type": "stream",
     "text": [
      "Total spent this week: $27.83\n"
     ]
    }
   ],
   "source": [
    "# Creating a list of purchases\n",
    "purchases = [5.99, 2.50, 7.99, 3.25, 8.10]  # Prices in dollars\n",
    "\n",
    "# Calculating total spending\n",
    "total_spent = sum(purchases)\n",
    "\n",
    "# Printing the total\n",
    "print(f\"Total spent this week: ${total_spent:.2f}\")"
   ]
  },
  {
   "cell_type": "code",
   "execution_count": 12,
   "metadata": {},
   "outputs": [
    {
     "name": "stdout",
     "output_type": "stream",
     "text": [
      "Bought Milk for $5.99\n",
      "Bought Chocolate for $2.50\n",
      "Bought Bread for $7.99\n",
      "Bought Eggs for $3.25\n",
      "Bought Cheese for $8.10\n",
      "Total spent this week: $27.83\n"
     ]
    }
   ],
   "source": [
    "# Creating a list of items bought\n",
    "items = [\"Milk\", \"Chocolate\", \"Bread\", \"Eggs\", \"Cheese\"]\n",
    "\n",
    "# Printing the list of items and total spent\n",
    "for item, price in zip(items, purchases):\n",
    "    print(f\"Bought {item} for ${price:.2f}\")\n",
    "\n",
    "print(f\"Total spent this week: ${total_spent:.2f}\")"
   ]
  },
  {
   "cell_type": "code",
   "execution_count": 13,
   "metadata": {},
   "outputs": [
    {
     "name": "stdout",
     "output_type": "stream",
     "text": [
      "Bought Milk for $5.99\n",
      "Bought Chocolate for $2.50\n",
      "Bought Bread for $7.99\n",
      "Bought Eggs for $3.25\n",
      "Bought Cheese for $8.10\n",
      "Total spent this week: $27.83\n"
     ]
    }
   ],
   "source": [
    "# Creating a dictionary from items and prices\n",
    "shopping_dict = {\n",
    "    \"Milk\": 5.99,\n",
    "    \"Chocolate\": 2.50,\n",
    "    \"Bread\": 7.99,\n",
    "    \"Eggs\": 3.25,\n",
    "    \"Cheese\": 8.10\n",
    "}\n",
    "\n",
    "# Calculating total spending\n",
    "total_spent = sum(shopping_dict.values())\n",
    "\n",
    "# Printing the dictionary and total spent\n",
    "for item, price in shopping_dict.items():\n",
    "    print(f\"Bought {item} for ${price:.2f}\")\n",
    "\n",
    "print(f\"Total spent this week: ${total_spent:.2f}\")"
   ]
  },
  {
   "cell_type": "code",
   "execution_count": 14,
   "metadata": {},
   "outputs": [
    {
     "name": "stdout",
     "output_type": "stream",
     "text": [
      "Bought Milk for $5.99\n",
      "Bought Chocolate for $2.50\n",
      "Bought Bread for $7.99\n",
      "Bought Eggs for $3.25\n",
      "Bought Cheese for $8.10\n",
      "Bought Juice for $4.50\n"
     ]
    }
   ],
   "source": [
    "# Adding a new item to the dictionary\n",
    "shopping_dict[\"Juice\"] = 4.50\n",
    "\n",
    "# Printing the updated dictionary\n",
    "for item, price in shopping_dict.items():\n",
    "    print(f\"Bought {item} for ${price:.2f}\")"
   ]
  },
  {
   "cell_type": "code",
   "execution_count": 15,
   "metadata": {},
   "outputs": [
    {
     "name": "stdout",
     "output_type": "stream",
     "text": [
      "Bought Milk for $5.99\n",
      "Bought Bread for $7.99\n",
      "Bought Eggs for $3.25\n",
      "Bought Cheese for $8.10\n",
      "Bought Juice for $4.50\n"
     ]
    }
   ],
   "source": [
    "# Remove item \"Chocolate\" from the dictionary\n",
    "del shopping_dict[\"Chocolate\"]\n",
    "\n",
    "# Print the updated dictionary\n",
    "for item, price in shopping_dict.items():\n",
    "    print(f\"Bought {item} for ${price:.2f}\")"
   ]
  },
  {
   "cell_type": "code",
   "execution_count": 16,
   "metadata": {},
   "outputs": [
    {
     "name": "stdout",
     "output_type": "stream",
     "text": [
      "Bought Milk for $5.99\n",
      "Bought Eggs for $3.25\n",
      "Bought Cheese for $8.10\n",
      "Bought Juice for $4.50\n"
     ]
    }
   ],
   "source": [
    "# Remove item \"Bread\" and get its price\n",
    "removed_item = shopping_dict.pop(\"Bread\")\n",
    "\n",
    "# Print the updated dictionary\n",
    "for item, price in shopping_dict.items():\n",
    "    print(f\"Bought {item} for ${price:.2f}\")"
   ]
  },
  {
   "cell_type": "markdown",
   "metadata": {
    "id": "OwN1QfB25q3P"
   },
   "source": [
    "# Slicing"
   ]
  },
  {
   "cell_type": "markdown",
   "metadata": {
    "id": "jcMqNrgu5q3Q"
   },
   "source": [
    "In addition to accessing list elements one at a time, Python provides concise syntax to access sublists; this is known as slicing:"
   ]
  },
  {
   "cell_type": "code",
   "execution_count": 17,
   "metadata": {},
   "outputs": [
    {
     "name": "stdout",
     "output_type": "stream",
     "text": [
      "['Bread', 'Eggs', 'Cheese']\n"
     ]
    }
   ],
   "source": [
    "# Create a list of items\n",
    "shopping_list = [\"Milk\", \"Chocolate\", \"Bread\", \"Eggs\", \"Cheese\", \"Juice\"]\n",
    "\n",
    "# Slicing the list to get items from index 2 to 4 (excluding index 5)\n",
    "sliced_items = shopping_list[2:5]\n",
    "\n",
    "# Printing the sliced list\n",
    "print(sliced_items)"
   ]
  },
  {
   "cell_type": "markdown",
   "metadata": {
    "id": "5xiRdmop5q3V"
   },
   "source": [
    "***\n",
    "\n",
    "# Loops"
   ]
  },
  {
   "cell_type": "markdown",
   "metadata": {
    "id": "W4aIykm35q3W"
   },
   "source": [
    "You can loop over the elements of a list like this:"
   ]
  },
  {
   "cell_type": "code",
   "execution_count": 18,
   "metadata": {},
   "outputs": [
    {
     "name": "stdout",
     "output_type": "stream",
     "text": [
      "Bought Milk\n",
      "Bought Chocolate\n",
      "Bought Bread\n",
      "Bought Eggs\n",
      "Bought Cheese\n"
     ]
    }
   ],
   "source": [
    "# List of items\n",
    "shopping_list = [\"Milk\", \"Chocolate\", \"Bread\", \"Eggs\", \"Cheese\"]\n",
    "\n",
    "# Loop through each item and print it\n",
    "for item in shopping_list:\n",
    "    print(f\"Bought {item}\")"
   ]
  },
  {
   "cell_type": "code",
   "execution_count": 19,
   "metadata": {},
   "outputs": [
    {
     "name": "stdout",
     "output_type": "stream",
     "text": [
      "Bought Milk\n",
      "Bought Chocolate\n",
      "Bought Bread\n",
      "Bought Eggs\n",
      "Bought Cheese\n"
     ]
    }
   ],
   "source": [
    "# Counter for the loop\n",
    "count = 0\n",
    "\n",
    "# Loop through until count reaches the length of the list\n",
    "while count < len(shopping_list):\n",
    "    print(f\"Bought {shopping_list[count]}\")\n",
    "    count += 1"
   ]
  },
  {
   "cell_type": "markdown",
   "metadata": {
    "id": "SfjRY7oh5q3c"
   },
   "source": [
    "If you want access to the index of each element within the body of a loop, use the built-in `enumerate` function:"
   ]
  },
  {
   "cell_type": "code",
   "execution_count": 20,
   "metadata": {},
   "outputs": [
    {
     "name": "stdout",
     "output_type": "stream",
     "text": [
      "Item 1: Milk\n",
      "Item 2: Chocolate\n",
      "Item 3: Bread\n",
      "Item 4: Eggs\n",
      "Item 5: Cheese\n"
     ]
    }
   ],
   "source": [
    "# List of items\n",
    "shopping_list = [\"Milk\", \"Chocolate\", \"Bread\", \"Eggs\", \"Cheese\"]\n",
    "\n",
    "# Using enumerate to get both index and item\n",
    "for index, item in enumerate(shopping_list):\n",
    "    print(f\"Item {index + 1}: {item}\")"
   ]
  },
  {
   "cell_type": "markdown",
   "metadata": {
    "id": "tDD47vMB5q4L"
   },
   "source": [
    "***\n",
    "\n",
    "# Sets"
   ]
  },
  {
   "cell_type": "markdown",
   "metadata": {
    "id": "GA8eU1aU5q4M"
   },
   "source": [
    "A set is an unordered collection of distinct elements. As a simple example, consider the following:"
   ]
  },
  {
   "cell_type": "code",
   "execution_count": 21,
   "metadata": {},
   "outputs": [
    {
     "name": "stdout",
     "output_type": "stream",
     "text": [
      "{'Bread', 'Milk', 'Cheese', 'Chocolate', 'Eggs'}\n"
     ]
    }
   ],
   "source": [
    "# Creating a set of items (duplicates will be removed)\n",
    "shopping_set = {\"Milk\", \"Chocolate\", \"Bread\", \"Eggs\", \"Cheese\", \"Milk\"}\n",
    "\n",
    "# Printing the set (duplicates are automatically removed)\n",
    "print(shopping_set)"
   ]
  },
  {
   "cell_type": "code",
   "execution_count": 22,
   "metadata": {},
   "outputs": [
    {
     "name": "stdout",
     "output_type": "stream",
     "text": [
      "{'Juice', 'Bread', 'Milk', 'Cheese', 'Chocolate', 'Eggs'}\n"
     ]
    }
   ],
   "source": [
    "# Adding a new item to the set\n",
    "shopping_set.add(\"Juice\")\n",
    "\n",
    "# Printing the updated set\n",
    "print(shopping_set)"
   ]
  },
  {
   "cell_type": "code",
   "execution_count": 23,
   "metadata": {
    "id": "iBoumJBc5q4S"
   },
   "outputs": [
    {
     "name": "stdout",
     "output_type": "stream",
     "text": [
      "{'Juice', 'Milk', 'Cheese', 'Chocolate', 'Eggs'}\n"
     ]
    }
   ],
   "source": [
    "# Removing an item from the set\n",
    "shopping_set.remove(\"Bread\")\n",
    "\n",
    "# Printing the updated set\n",
    "print(shopping_set)  # Number of elements in a set;"
   ]
  },
  {
   "cell_type": "markdown",
   "metadata": {
    "id": "fL0UctlO5q4j"
   },
   "source": [
    "***\n",
    "\n",
    "# Tuples"
   ]
  },
  {
   "cell_type": "markdown",
   "metadata": {
    "id": "iezj80Mu5q4j"
   },
   "source": [
    "A tuple is an (immutable) ordered list of values. A tuple is in many ways similar to a list; one of the most important differences is that tuples can be used as keys in dictionaries and as elements of sets, while lists cannot. Here is a trivial example:"
   ]
  },
  {
   "cell_type": "code",
   "execution_count": 24,
   "metadata": {
    "id": "mdEyq1hC5q4k"
   },
   "outputs": [
    {
     "name": "stdout",
     "output_type": "stream",
     "text": [
      "Milk\n",
      "('Chocolate', 'Bread')\n"
     ]
    }
   ],
   "source": [
    "# Creating a tuple\n",
    "shopping_tuple = (\"Milk\", \"Chocolate\", \"Bread\", \"Eggs\", \"Cheese\")\n",
    "\n",
    "# Accessing elements\n",
    "print(shopping_tuple[0])  # Prints \"Milk\"\n",
    "\n",
    "# Slicing the tuple\n",
    "print(shopping_tuple[1:3])  # Prints (\"Chocolate\", \"Bread\")\n",
    "\n",
    "# You cannot change the tuple (this will raise an error)\n",
    "# shopping_tuple[0] = \"Juice\"  # This will raise a TypeError\n"
   ]
  },
  {
   "cell_type": "markdown",
   "metadata": {
    "id": "w1VXSG2s5q4q"
   },
   "source": [
    "***\n",
    "\n",
    "# Functions"
   ]
  },
  {
   "cell_type": "markdown",
   "metadata": {
    "id": "-4lAKLDY5q4r"
   },
   "source": [
    "Python functions are defined using the `def` keyword. For example:"
   ]
  },
  {
   "cell_type": "code",
   "execution_count": 25,
   "metadata": {
    "id": "oysjtHVh5q4s"
   },
   "outputs": [
    {
     "name": "stdout",
     "output_type": "stream",
     "text": [
      "['Bread', 'Cheese', 'Chocolate', 'Eggs', 'Milk']\n"
     ]
    }
   ],
   "source": [
    "# Function to sort items alphabetically\n",
    "def sort_items(items):\n",
    "    return sorted(items)\n",
    "\n",
    "# Example usage\n",
    "shopping_list = [\"Milk\", \"Chocolate\", \"Bread\", \"Eggs\", \"Cheese\"]\n",
    "sorted_list = sort_items(shopping_list)\n",
    "print(sorted_list)"
   ]
  },
  {
   "cell_type": "markdown",
   "metadata": {
    "id": "YhQkNfyd5q4x"
   },
   "source": [
    "We will often define functions to take optional keyword arguments, like this:"
   ]
  },
  {
   "cell_type": "code",
   "execution_count": 26,
   "metadata": {
    "id": "TH04kWxK5q4y"
   },
   "outputs": [
    {
     "name": "stdout",
     "output_type": "stream",
     "text": [
      "Ascending: ['Bread', 'Cheese', 'Chocolate', 'Eggs', 'Milk']\n",
      "Descending: ['Milk', 'Eggs', 'Chocolate', 'Cheese', 'Bread']\n"
     ]
    }
   ],
   "source": [
    "# Function to sort items with an order argument\n",
    "def sort_items(items, ascending=True):\n",
    "    return sorted(items, reverse=not ascending)\n",
    "\n",
    "# Example usage\n",
    "shopping_list = [\"Milk\", \"Chocolate\", \"Bread\", \"Eggs\", \"Cheese\"]\n",
    "\n",
    "# Sort in ascending order\n",
    "sorted_ascending = sort_items(shopping_list, ascending=True)\n",
    "print(\"Ascending:\", sorted_ascending)\n",
    "\n",
    "# Sort in descending order\n",
    "sorted_descending = sort_items(shopping_list, ascending=False)\n",
    "print(\"Descending:\", sorted_descending)"
   ]
  },
  {
   "cell_type": "markdown",
   "metadata": {
    "id": "qvrL6-14JgG1"
   },
   "source": [
    "There is a lot more information about Python functions in the [documentation](https://docs.python.org/3.5/tutorial/controlflow.html#defining-functions)."
   ]
  },
  {
   "cell_type": "markdown",
   "metadata": {
    "id": "Xvw1X4q25q42"
   },
   "source": [
    "***\n",
    "\n",
    "# Classes"
   ]
  },
  {
   "cell_type": "markdown",
   "metadata": {
    "id": "5ungbMSi5q42"
   },
   "source": [
    "The syntax for defining classes in Python is straightforward:"
   ]
  },
  {
   "cell_type": "code",
   "execution_count": 27,
   "metadata": {},
   "outputs": [],
   "source": [
    "class ShoppingItem:\n",
    "    # Constructor\n",
    "    def __init__(self, name, cost):\n",
    "        self.name = name\n",
    "        self.cost = cost\n",
    "\n",
    "    # format method\n",
    "    def __repr__(self):\n",
    "        return f\"{self.name}: ${self.cost:.2f}\"\n",
    "\n",
    "class ShoppingList:\n",
    "    # Constructor\n",
    "    def __init__(self):\n",
    "        self.items = []\n",
    "\n",
    "    # add method\n",
    "    def add_item(self, item):\n",
    "        self.items.append(item)\n",
    "\n",
    "    # sort method\n",
    "    def sort_items_by_cost(self, ascending=True):\n",
    "        self.items.sort(key=lambda x: x.cost, reverse=not ascending)"
   ]
  },
  {
   "cell_type": "code",
   "execution_count": 28,
   "metadata": {},
   "outputs": [
    {
     "name": "stdout",
     "output_type": "stream",
     "text": [
      "Sorted by cost (ascending): [Bread: $1.29, Milk: $1.99, Chocolate: $2.49]\n",
      "Sorted by cost (descending): [Chocolate: $2.49, Milk: $1.99, Bread: $1.29]\n"
     ]
    }
   ],
   "source": [
    "# Example usage\n",
    "shopping_list = ShoppingList()\n",
    "shopping_list.add_item(ShoppingItem(\"Milk\", 1.99))\n",
    "shopping_list.add_item(ShoppingItem(\"Chocolate\", 2.49))\n",
    "shopping_list.add_item(ShoppingItem(\"Bread\", 1.29))\n",
    "\n",
    "# Sort in ascending order\n",
    "shopping_list.sort_items_by_cost(ascending=True)\n",
    "print(\"Sorted by cost (ascending):\", shopping_list.items)\n",
    "\n",
    "# Sort in descending order\n",
    "shopping_list.sort_items_by_cost(ascending=False)\n",
    "print(\"Sorted by cost (descending):\", shopping_list.items)"
   ]
  },
  {
   "cell_type": "markdown",
   "metadata": {
    "id": "1bsI3ls-SWNG"
   },
   "source": [
    "***\n",
    "\n",
    "# Reading and writing files"
   ]
  },
  {
   "cell_type": "markdown",
   "metadata": {
    "id": "vlSxHt4JSWNG"
   },
   "source": [
    "Let's the data of programming language use in a csv file:"
   ]
  },
  {
   "cell_type": "code",
   "execution_count": 29,
   "metadata": {
    "id": "HNtf8YVVSWNG"
   },
   "outputs": [
    {
     "name": "stdout",
     "output_type": "stream",
     "text": [
      "Data has been saved to programming_languages.csv\n"
     ]
    }
   ],
   "source": [
    "import csv\n",
    "\n",
    "# Data to be saved in CSV\n",
    "data = [\n",
    "    [\"Ranking\", \"Programming Language\", \"Percentage (YoY Change)\"],\n",
    "    [1, \"Python\", \"16.925% (-0.284%)\"],\n",
    "    [2, \"Java\", \"11.708% (+0.393%)\"],\n",
    "    [3, \"Go\", \"10.262% (-0.162%)\"],\n",
    "    [4, \"JavaScript\", \"9.859% (+0.306%)\"],\n",
    "    [5, \"C++\", \"9.459% (-0.624%)\"],\n",
    "    [6, \"TypeScript\", \"7.345% (-0.554%)\"],\n",
    "    [7, \"PHP\", \"5.665% (+0.357%)\"],\n",
    "    [8, \"Ruby\", \"4.706% (-0.307%)\"],\n",
    "    [9, \"C\", \"4.616% (+0.208%)\"],\n",
    "    [10, \"C#\", \"3.442% (+0.300%)\"]\n",
    "]\n",
    "\n",
    "# Specify the file path\n",
    "file_path = 'programming_languages.csv'\n",
    "\n",
    "# Writing data to CSV\n",
    "with open(file_path, mode='w', newline='') as file:\n",
    "    writer = csv.writer(file)\n",
    "    writer.writerows(data)\n",
    "\n",
    "print(f\"Data has been saved to {file_path}\")"
   ]
  },
  {
   "cell_type": "markdown",
   "metadata": {
    "id": "zP7E62KJSWNG"
   },
   "source": [
    "Now, we can read data from a CSV file into a pandas DataFrame:"
   ]
  },
  {
   "cell_type": "code",
   "execution_count": 30,
   "metadata": {
    "id": "DeYwQDCjSWNG"
   },
   "outputs": [
    {
     "name": "stdout",
     "output_type": "stream",
     "text": [
      "   Ranking Programming Language Percentage (YoY Change)\n",
      "0        1               Python       16.925% (-0.284%)\n",
      "1        2                 Java       11.708% (+0.393%)\n",
      "2        3                   Go       10.262% (-0.162%)\n",
      "3        4           JavaScript        9.859% (+0.306%)\n",
      "4        5                  C++        9.459% (-0.624%)\n",
      "5        6           TypeScript        7.345% (-0.554%)\n",
      "6        7                  PHP        5.665% (+0.357%)\n",
      "7        8                 Ruby        4.706% (-0.307%)\n",
      "8        9                    C        4.616% (+0.208%)\n",
      "9       10                   C#        3.442% (+0.300%)\n"
     ]
    }
   ],
   "source": [
    "import pandas as pd\n",
    "\n",
    "# Specify the file path\n",
    "file_path = 'programming_languages.csv'\n",
    "\n",
    "# Read data from the CSV into a DataFrame\n",
    "df = pd.read_csv(file_path)\n",
    "\n",
    "# Display the DataFrame\n",
    "print(df)"
   ]
  },
  {
   "cell_type": "markdown",
   "metadata": {},
   "source": [
    "***\n",
    "\n",
    "# Visualization\n",
    "\n",
    "Matplotlib is a plotting library. In this section give a brief introduction to the `matplotlib.pyplot` module, which provides a plotting system similar to that of MATLAB."
   ]
  },
  {
   "cell_type": "code",
   "execution_count": 31,
   "metadata": {},
   "outputs": [
    {
     "data": {
      "image/png": "[encoded data removed]",
      "text/plain": [
       "<Figure size 1000x600 with 1 Axes>"
      ]
     },
     "metadata": {},
     "output_type": "display_data"
    }
   ],
   "source": [
    "import matplotlib.pyplot as plt\n",
    "import pandas as pd\n",
    "\n",
    "# Read the CSV file into a DataFrame\n",
    "file_path = 'programming_languages.csv'\n",
    "df = pd.read_csv(file_path)\n",
    "\n",
    "# Sort the DataFrame by 'Ranking' in ascending order (so 1 is at the top)\n",
    "df_sorted = df.sort_values(by='Ranking')\n",
    "\n",
    "# Create the scatter plot\n",
    "plt.figure(figsize=(10, 6))\n",
    "plt.scatter(df_sorted['Programming Language'], df_sorted['Ranking'], color='skyblue')\n",
    "\n",
    "# Add labels and title\n",
    "plt.xlabel('Programming Language')\n",
    "plt.ylabel('Ranking')\n",
    "plt.title('Ranking of Programming Languages')\n",
    "\n",
    "# Reverse the y-axis so that rank 1 is at the top\n",
    "plt.gca().invert_yaxis()\n",
    "\n",
    "# Rotate x-axis labels for better readability\n",
    "plt.xticks(rotation=45)\n",
    "\n",
    "# Show the plot\n",
    "plt.show()"
   ]
  },
  {
   "cell_type": "code",
   "execution_count": 32,
   "metadata": {},
   "outputs": [
    {
     "data": {
      "image/png": "[encoded data removed]",
      "text/plain": [
       "<Figure size 1000x600 with 1 Axes>"
      ]
     },
     "metadata": {},
     "output_type": "display_data"
    }
   ],
   "source": [
    "import matplotlib.pyplot as plt\n",
    "import pandas as pd\n",
    "\n",
    "# Read the CSV file into a DataFrame\n",
    "file_path = 'programming_languages.csv'\n",
    "df = pd.read_csv(file_path)\n",
    "\n",
    "# Extract the percentage values (remove the '%' sign and convert to float)\n",
    "df['Percentage Value'] = df['Percentage (YoY Change)'].str.extract(r'([\\d.]+)').astype(float)\n",
    "\n",
    "# Sort the DataFrame by 'Ranking' in ascending order (so 1 is at the top)\n",
    "df_sorted = df.sort_values(by='Ranking')\n",
    "\n",
    "# Create the scatter plot\n",
    "plt.figure(figsize=(10, 6))\n",
    "\n",
    "# Plot with 'Percentage Value' as the size of the dots\n",
    "plt.scatter(df_sorted['Programming Language'], df_sorted['Ranking'], \n",
    "            s=df_sorted['Percentage Value'] * 10,  # Adjust the size by scaling the percentage value\n",
    "            color='skyblue', alpha=0.6)\n",
    "\n",
    "# Add labels and title\n",
    "plt.xlabel('Programming Language')\n",
    "plt.ylabel('Ranking')\n",
    "plt.title('Ranking of Programming Languages')\n",
    "\n",
    "# Reverse the y-axis so that rank 1 is at the top\n",
    "plt.gca().invert_yaxis()\n",
    "\n",
    "# Rotate x-axis labels for better readability\n",
    "plt.xticks(rotation=45)\n",
    "\n",
    "# Show the plot\n",
    "plt.show()\n"
   ]
  },
  {
   "cell_type": "code",
   "execution_count": 33,
   "metadata": {},
   "outputs": [
    {
     "data": {
      "image/png": "[encoded data removed]",
      "text/plain": [
       "<Figure size 1200x700 with 1 Axes>"
      ]
     },
     "metadata": {},
     "output_type": "display_data"
    }
   ],
   "source": [
    "import seaborn as sns\n",
    "import matplotlib.pyplot as plt\n",
    "import pandas as pd\n",
    "\n",
    "# Read the CSV file into a DataFrame\n",
    "file_path = 'programming_languages.csv'\n",
    "df = pd.read_csv(file_path)\n",
    "\n",
    "# Extract the percentage values (remove the '%' sign and convert to float)\n",
    "df['Percentage Value'] = df['Percentage (YoY Change)'].str.extract(r'([\\d.]+)').astype(float)\n",
    "\n",
    "# Sort the DataFrame by 'Ranking' in ascending order (so 1 is at the top)\n",
    "df_sorted = df.sort_values(by='Ranking')\n",
    "\n",
    "# Create the scatter plot using Seaborn\n",
    "plt.figure(figsize=(12, 7))\n",
    "\n",
    "# Plot with 'Percentage Value' as the size of the dots, and remove the legend\n",
    "sns.scatterplot(x='Programming Language', y='Ranking', size='Percentage Value', \n",
    "                sizes=(20, 200), # Adjust the size range of dots\n",
    "                data=df_sorted, color='red', alpha=0.6, legend=False)\n",
    "\n",
    "# Add labels and title\n",
    "plt.xlabel('Programming Language')\n",
    "plt.ylabel('Ranking')\n",
    "plt.title('Ranking of Programming Languages with YoY Change')\n",
    "\n",
    "# Reverse the y-axis so that rank 1 is at the top\n",
    "plt.gca().invert_yaxis()\n",
    "\n",
    "# Rotate x-axis labels for better readability\n",
    "plt.xticks(rotation=45)\n",
    "\n",
    "# Annotate each point with the YoY Change value\n",
    "for i in range(len(df_sorted)):\n",
    "    plt.text(x=df_sorted['Programming Language'].iloc[i], \n",
    "             y=df_sorted['Ranking'].iloc[i], \n",
    "             s=df_sorted['Percentage (YoY Change)'].iloc[i], \n",
    "             horizontalalignment='center', \n",
    "             verticalalignment='bottom', \n",
    "             fontweight='bold')\n",
    "\n",
    "# Enable the grid\n",
    "plt.grid(True)\n",
    "\n",
    "# Set y-axis ticks from 0 to 10 with increment of 1\n",
    "plt.yticks(range(0, 11))\n",
    "\n",
    "# Show the plot\n",
    "plt.show()\n"
   ]
  },
  {
   "cell_type": "markdown",
   "metadata": {
    "id": "HC8PPoa55q44"
   },
   "source": [
    "***\n",
    "\n",
    "## NumPy"
   ]
  },
  {
   "cell_type": "markdown",
   "metadata": {
    "id": "icQHJIvK5q45"
   },
   "source": [
    "NumPy is the fundamental package for scientific computing with Python. It provides a multidimensional array object to store homogenous or heterogeneous data; it also provides optimized functions/methods to operate on this array object."
   ]
  },
  {
   "cell_type": "markdown",
   "metadata": {
    "id": "PNXqmeC45q46"
   },
   "source": [
    "To use NumPy, we first need to import the `numpy` library:"
   ]
  },
  {
   "cell_type": "code",
   "execution_count": 34,
   "metadata": {
    "id": "nwFkFb_d5q47"
   },
   "outputs": [],
   "source": [
    "import numpy as np"
   ]
  },
  {
   "cell_type": "markdown",
   "metadata": {
    "id": "oEMc8JJP5q4-"
   },
   "source": [
    "### Arrays"
   ]
  },
  {
   "cell_type": "markdown",
   "metadata": {
    "id": "qY5T4B_55q4_"
   },
   "source": [
    "A NumPy array is a grid of values, all of the same type, and is indexed by a tuple of nonnegative integers. The number of dimensions is the rank of the array; the shape of an array is a tuple of integers giving the size of the array along each dimension."
   ]
  },
  {
   "cell_type": "markdown",
   "metadata": {},
   "source": [
    "### Scalar \n",
    "A scalar represents a single value. In the context of Programming Langauges data provided previousely, the ranking of \"Python\" (1) is a scalar."
   ]
  },
  {
   "cell_type": "code",
   "execution_count": 35,
   "metadata": {},
   "outputs": [
    {
     "name": "stdout",
     "output_type": "stream",
     "text": [
      "1\n",
      "()\n"
     ]
    }
   ],
   "source": [
    "import numpy as np\n",
    "\n",
    "# Scalar example\n",
    "ranking_python = np.array(1)  # Scalar value\n",
    "print(ranking_python)         # Output: 1\n",
    "print(ranking_python.shape)   # Output: () - No dimensions"
   ]
  },
  {
   "cell_type": "markdown",
   "metadata": {},
   "source": [
    "### Vector\n",
    "\n",
    "A vector is a one-dimensional array representing a list of values. In the context of the data, the Rankings ([1, 2, 3, ..., 10]) or the Percentages ([16.925, 11.708, ..., 3.442]) are vectors."
   ]
  },
  {
   "cell_type": "code",
   "execution_count": 36,
   "metadata": {},
   "outputs": [
    {
     "name": "stdout",
     "output_type": "stream",
     "text": [
      "[ 1  2  3  4  5  6  7  8  9 10]\n",
      "(10,)\n"
     ]
    }
   ],
   "source": [
    "rankings = np.array([1, 2, 3, 4, 5, 6, 7, 8, 9, 10])  # Ranking vector\n",
    "percentages = np.array([16.925, 11.708, 10.262, 9.859, 9.459, \n",
    "                        7.345, 5.665, 4.706, 4.616, 3.442])  # Percentage vector\n",
    "print(rankings)          # Output: [1 2 3 4 5 6 7 8 9 10]\n",
    "print(rankings.shape)    # Output: (10,) - One-dimensional array"
   ]
  },
  {
   "cell_type": "markdown",
   "metadata": {},
   "source": [
    "### Matrix\n",
    "\n",
    "A matrix is a two-dimensional array with rows and columns. In the context of the data, the combination of Rankings and Programming Languages can form a matrix:\n",
    "```\n",
    "[[1, \"Python\"],\n",
    " [2, \"Java\"],\n",
    " [3, \"Go\"],\n",
    " ... ]\n",
    " ```"
   ]
  },
  {
   "cell_type": "code",
   "execution_count": 37,
   "metadata": {},
   "outputs": [
    {
     "name": "stdout",
     "output_type": "stream",
     "text": [
      "[[1 'Python' 16.925]\n",
      " [2 'Java' 11.708]\n",
      " [3 'Go' 10.262]\n",
      " [4 'JavaScript' 9.859]\n",
      " [5 'C++' 9.459]\n",
      " [6 'TypeScript' 7.345]\n",
      " [7 'PHP' 5.665]\n",
      " [8 'Ruby' 4.706]\n",
      " [9 'C' 4.616]\n",
      " [10 'C#' 3.442]]\n",
      "(10, 3)\n",
      "1 Python 2\n"
     ]
    }
   ],
   "source": [
    "# Matrix example\n",
    "data = np.array([\n",
    "    [1, \"Python\", 16.925],\n",
    "    [2, \"Java\", 11.708],\n",
    "    [3, \"Go\", 10.262],\n",
    "    [4, \"JavaScript\", 9.859],\n",
    "    [5, \"C++\", 9.459],\n",
    "    [6, \"TypeScript\", 7.345],\n",
    "    [7, \"PHP\", 5.665],\n",
    "    [8, \"Ruby\", 4.706],\n",
    "    [9, \"C\", 4.616],\n",
    "    [10, \"C#\", 3.442]\n",
    "], dtype=object)\n",
    "print(data)\n",
    "print(data.shape)  \n",
    "print(data[0, 0], data[0, 1], data[1, 0]) "
   ]
  },
  {
   "cell_type": "markdown",
   "metadata": {
    "id": "XVEgPUy45q5H"
   },
   "source": [
    "Numpy also provides many functions to create arrays:"
   ]
  },
  {
   "cell_type": "code",
   "execution_count": 38,
   "metadata": {
    "id": "J6asuT0G5q5H"
   },
   "outputs": [
    {
     "name": "stdout",
     "output_type": "stream",
     "text": [
      "[[0. 0.]\n",
      " [0. 0.]]\n"
     ]
    }
   ],
   "source": [
    "a = np.zeros((2,2))  # Create an array of all zeros\n",
    "print(a)"
   ]
  },
  {
   "cell_type": "code",
   "execution_count": 39,
   "metadata": {
    "id": "No4YcRSX5q5J"
   },
   "outputs": [
    {
     "name": "stdout",
     "output_type": "stream",
     "text": [
      "[[1. 1.]]\n"
     ]
    }
   ],
   "source": [
    "b = np.ones((1,2))   # Create an array of all ones\n",
    "print(b)"
   ]
  },
  {
   "cell_type": "code",
   "execution_count": 40,
   "metadata": {
    "id": "arHMvOhi5q5L"
   },
   "outputs": [
    {
     "name": "stdout",
     "output_type": "stream",
     "text": [
      "[[7 7]\n",
      " [7 7]]\n"
     ]
    }
   ],
   "source": [
    "c = np.full((2,2), 7) # Create a constant array\n",
    "print(c)"
   ]
  },
  {
   "cell_type": "code",
   "execution_count": 41,
   "metadata": {
    "id": "BVuZ89NW5q5M"
   },
   "outputs": [
    {
     "name": "stdout",
     "output_type": "stream",
     "text": [
      "[[1. 0.]\n",
      " [0. 1.]]\n"
     ]
    }
   ],
   "source": [
    "d = np.eye(2)        # Create a 2x2 identity matrix\n",
    "print(d)"
   ]
  },
  {
   "cell_type": "code",
   "execution_count": 42,
   "metadata": {
    "id": "tY58UMFk5q5P"
   },
   "outputs": [
    {
     "name": "stdout",
     "output_type": "stream",
     "text": [
      "[[0.90482799 0.81718628]\n",
      " [0.55059483 0.17366443]]\n"
     ]
    }
   ],
   "source": [
    "e = np.random.random((2,2)) # Create an array filled with random values\n",
    "print(e)"
   ]
  },
  {
   "cell_type": "markdown",
   "metadata": {},
   "source": [
    "### Tensor\n",
    "A tensor is a multi-dimensional array (more than 2 dimensions).\n",
    "For instance, if we want to include year-over-year change as a separate axis along with rankings and percentages, the data becomes a 3D tensor."
   ]
  },
  {
   "cell_type": "code",
   "execution_count": 43,
   "metadata": {},
   "outputs": [
    {
     "name": "stdout",
     "output_type": "stream",
     "text": [
      "[[[1 'Python' 16.925 -0.284]]\n",
      "\n",
      " [[2 'Java' 11.708 0.393]]\n",
      "\n",
      " [[3 'Go' 10.262 -0.162]]\n",
      "\n",
      " [[4 'JavaScript' 9.859 0.306]]\n",
      "\n",
      " [[5 'C++' 9.459 -0.624]]\n",
      "\n",
      " [[6 'TypeScript' 7.345 -0.554]]\n",
      "\n",
      " [[7 'PHP' 5.665 0.357]]\n",
      "\n",
      " [[8 'Ruby' 4.706 -0.307]]\n",
      "\n",
      " [[9 'C' 4.616 0.208]]\n",
      "\n",
      " [[10 'C#' 3.442 0.3]]]\n",
      "(10, 1, 4)\n"
     ]
    }
   ],
   "source": [
    "# Tensor example\n",
    "# Data split into multiple dimensions (ranking, percentage, YoY change)\n",
    "tensor_data = np.array([\n",
    "    [[1, \"Python\", 16.925, -0.284]],\n",
    "    [[2, \"Java\", 11.708, 0.393]],\n",
    "    [[3, \"Go\", 10.262, -0.162]],\n",
    "    [[4, \"JavaScript\", 9.859, 0.306]],\n",
    "    [[5, \"C++\", 9.459, -0.624]],\n",
    "    [[6, \"TypeScript\", 7.345, -0.554]],\n",
    "    [[7, \"PHP\", 5.665, 0.357]],\n",
    "    [[8, \"Ruby\", 4.706, -0.307]],\n",
    "    [[9, \"C\", 4.616, 0.208]],\n",
    "    [[10, \"C#\", 3.442, 0.300]]\n",
    "], dtype=object)\n",
    "\n",
    "print(tensor_data)\n",
    "print(tensor_data.shape)  # Output: (10, 1, 4) - 10 rows, 1 record per row, 4 attributes"
   ]
  },
  {
   "cell_type": "markdown",
   "metadata": {
    "id": "Cm1XbIVO5q5Q"
   },
   "source": [
    "### Array indexing"
   ]
  },
  {
   "cell_type": "markdown",
   "metadata": {
    "id": "pPuZbM_Z5q5R"
   },
   "source": [
    "NumPy offers several ways to index into arrays."
   ]
  },
  {
   "cell_type": "code",
   "execution_count": 44,
   "metadata": {},
   "outputs": [
    {
     "name": "stdout",
     "output_type": "stream",
     "text": [
      "Percentage of the 3rd item: 10.262\n",
      "YoY Change of the 5th item: -0.624%\n",
      "YoY Change of the 1st item: -0.284%\n",
      "All YoY changes: ['-0.284%' '+0.393%' '-0.162%' '+0.306%' '-0.624%' '-0.554%' '+0.357%'\n",
      " '-0.307%' '+0.208%' '+0.300%']\n"
     ]
    }
   ],
   "source": [
    "import numpy as np\n",
    "\n",
    "# List of percentage values and YoY changes from the table\n",
    "percentage_values = [16.925, 11.708, 10.262, 9.859, 9.459, 7.345, 5.665, 4.706, 4.616, 3.442]\n",
    "yoy_changes = ['-0.284%', '+0.393%', '-0.162%', '+0.306%', '-0.624%', '-0.554%', '+0.357%', '-0.307%', '+0.208%', '+0.300%']\n",
    "\n",
    "# Create a 2D NumPy array with both Percentage and YoY Change\n",
    "rank_2_array = np.array(list(zip(percentage_values, yoy_changes)))\n",
    "\n",
    "# Indexing examples\n",
    "\n",
    "# Get the Percentage value of the 3rd element (index 2)\n",
    "percentage_value_3 = rank_2_array[2, 0]  # row index 2, column index 0 for Percentage\n",
    "print(f\"Percentage of the 3rd item: {percentage_value_3}\")\n",
    "\n",
    "# Get the YoY Change value of the 5th element (index 4)\n",
    "yoy_change_5 = rank_2_array[4, 1]  # row index 4, column index 1 for YoY Change\n",
    "print(f\"YoY Change of the 5th item: {yoy_change_5}\")\n",
    "\n",
    "# Get the value in the 1st row and 2nd column (index [0, 1])\n",
    "first_item_yoy_change = rank_2_array[0, 1]  # row index 0, column index 1\n",
    "print(f\"YoY Change of the 1st item: {first_item_yoy_change}\")\n",
    "\n",
    "# Get all YoY changes (all values in column 1)\n",
    "all_yoy_changes = rank_2_array[:, 1]  # All rows, column index 1\n",
    "print(f\"All YoY changes: {all_yoy_changes}\")"
   ]
  },
  {
   "cell_type": "markdown",
   "metadata": {
    "id": "J0krzpaq5q54"
   },
   "source": [
    "### Array math"
   ]
  },
  {
   "cell_type": "markdown",
   "metadata": {
    "id": "MB1QONDf5q54"
   },
   "source": [
    "Basic mathematical functions operate elementwise on arrays, and are available both as operator overloads and as functions in the NumPy module:"
   ]
  },
  {
   "cell_type": "code",
   "execution_count": 45,
   "metadata": {
    "id": "pqsjtRiM5q54"
   },
   "outputs": [
    {
     "name": "stdout",
     "output_type": "stream",
     "text": [
      "Original Percentage Values: [16.925 11.708 10.262  9.859  9.459  7.345  5.665  4.706  4.616  3.442]\n",
      "Addition of 5: [21.925 16.708 15.262 14.859 14.459 12.345 10.665  9.706  9.616  8.442]\n",
      "Subtraction of 2: [14.925  9.708  8.262  7.859  7.459  5.345  3.665  2.706  2.616  1.442]\n",
      "Multiplication by 2: [33.85  23.416 20.524 19.718 18.918 14.69  11.33   9.412  9.232  6.884]\n",
      "Division by 2: [8.4625 5.854  5.131  4.9295 4.7295 3.6725 2.8325 2.353  2.308  1.721 ]\n",
      "Percentage Values Squared: [286.455625 137.077264 105.308644  97.199881  89.472681  53.949025\n",
      "  32.092225  22.146436  21.307456  11.847364]\n"
     ]
    }
   ],
   "source": [
    "import numpy as np\n",
    "\n",
    "# List of percentage values and YoY changes from the table\n",
    "percentage_values = [16.925, 11.708, 10.262, 9.859, 9.459, 7.345, 5.665, 4.706, 4.616, 3.442]\n",
    "yoy_changes = ['-0.284%', '+0.393%', '-0.162%', '+0.306%', '-0.624%', '-0.554%', '+0.357%', '-0.307%', '+0.208%', '+0.300%']\n",
    "\n",
    "# Create a 2D NumPy array with both Percentage and YoY Change\n",
    "rank_2_array = np.array(list(zip(percentage_values, yoy_changes)))\n",
    "\n",
    "# Extract the Percentage values (as a float array)\n",
    "percentage_values_array = rank_2_array[:, 0].astype(float)\n",
    "\n",
    "# Basic mathematical operations\n",
    "\n",
    "# Addition: Add 5 to all percentage values\n",
    "add_5 = percentage_values_array + 5\n",
    "\n",
    "# Subtraction: Subtract 2 from all percentage values\n",
    "subtract_2 = percentage_values_array - 2\n",
    "\n",
    "# Multiplication: Multiply all percentage values by 2\n",
    "multiply_2 = percentage_values_array * 2\n",
    "\n",
    "# Division: Divide all percentage values by 2\n",
    "divide_2 = percentage_values_array / 2\n",
    "\n",
    "# Exponentiation: Raise all percentage values to the power of 2\n",
    "power_2 = percentage_values_array ** 2\n",
    "\n",
    "# Print results\n",
    "print(f\"Original Percentage Values: {percentage_values_array}\")\n",
    "print(f\"Addition of 5: {add_5}\")\n",
    "print(f\"Subtraction of 2: {subtract_2}\")\n",
    "print(f\"Multiplication by 2: {multiply_2}\")\n",
    "print(f\"Division by 2: {divide_2}\")\n",
    "print(f\"Percentage Values Squared: {power_2}\")"
   ]
  },
  {
   "cell_type": "markdown",
   "metadata": {},
   "source": [
    "# pandas\n",
    "\n",
    "pandas is a Python data analysis library that provides high-performance, easy-to-use data structures and data analysis tools for the Python programming language."
   ]
  },
  {
   "cell_type": "markdown",
   "metadata": {},
   "source": [
    "Let's create a pandas DataFrame based on the Porgramming Langauge data."
   ]
  },
  {
   "cell_type": "code",
   "execution_count": 46,
   "metadata": {},
   "outputs": [
    {
     "name": "stdout",
     "output_type": "stream",
     "text": [
      "<class 'pandas.core.frame.DataFrame'>\n"
     ]
    },
    {
     "data": {
      "text/html": [
       "<div>\n",
       "<style scoped>\n",
       "    .dataframe tbody tr th:only-of-type {\n",
       "        vertical-align: middle;\n",
       "    }\n",
       "\n",
       "    .dataframe tbody tr th {\n",
       "        vertical-align: top;\n",
       "    }\n",
       "\n",
       "    .dataframe thead th {\n",
       "        text-align: right;\n",
       "    }\n",
       "</style>\n",
       "<table border=\"1\" class=\"dataframe\">\n",
       "  <thead>\n",
       "    <tr style=\"text-align: right;\">\n",
       "      <th></th>\n",
       "      <th>Ranking</th>\n",
       "      <th>Programming Language</th>\n",
       "      <th>Percentage (YoY Change)</th>\n",
       "    </tr>\n",
       "  </thead>\n",
       "  <tbody>\n",
       "    <tr>\n",
       "      <th>0</th>\n",
       "      <td>1</td>\n",
       "      <td>Python</td>\n",
       "      <td>16.925% (-0.284%)</td>\n",
       "    </tr>\n",
       "    <tr>\n",
       "      <th>1</th>\n",
       "      <td>2</td>\n",
       "      <td>Java</td>\n",
       "      <td>11.708% (+0.393%)</td>\n",
       "    </tr>\n",
       "    <tr>\n",
       "      <th>2</th>\n",
       "      <td>3</td>\n",
       "      <td>Go</td>\n",
       "      <td>10.262% (-0.162%)</td>\n",
       "    </tr>\n",
       "    <tr>\n",
       "      <th>3</th>\n",
       "      <td>4</td>\n",
       "      <td>JavaScript</td>\n",
       "      <td>9.859% (+0.306%)</td>\n",
       "    </tr>\n",
       "    <tr>\n",
       "      <th>4</th>\n",
       "      <td>5</td>\n",
       "      <td>C++</td>\n",
       "      <td>9.459% (-0.624%)</td>\n",
       "    </tr>\n",
       "    <tr>\n",
       "      <th>5</th>\n",
       "      <td>6</td>\n",
       "      <td>TypeScript</td>\n",
       "      <td>7.345% (-0.554%)</td>\n",
       "    </tr>\n",
       "    <tr>\n",
       "      <th>6</th>\n",
       "      <td>7</td>\n",
       "      <td>PHP</td>\n",
       "      <td>5.665% (+0.357%)</td>\n",
       "    </tr>\n",
       "    <tr>\n",
       "      <th>7</th>\n",
       "      <td>8</td>\n",
       "      <td>Ruby</td>\n",
       "      <td>4.706% (-0.307%)</td>\n",
       "    </tr>\n",
       "    <tr>\n",
       "      <th>8</th>\n",
       "      <td>9</td>\n",
       "      <td>C</td>\n",
       "      <td>4.616% (+0.208%)</td>\n",
       "    </tr>\n",
       "    <tr>\n",
       "      <th>9</th>\n",
       "      <td>10</td>\n",
       "      <td>C#</td>\n",
       "      <td>3.442% (+0.300%)</td>\n",
       "    </tr>\n",
       "  </tbody>\n",
       "</table>\n",
       "</div>"
      ],
      "text/plain": [
       "   Ranking Programming Language Percentage (YoY Change)\n",
       "0        1               Python       16.925% (-0.284%)\n",
       "1        2                 Java       11.708% (+0.393%)\n",
       "2        3                   Go       10.262% (-0.162%)\n",
       "3        4           JavaScript        9.859% (+0.306%)\n",
       "4        5                  C++        9.459% (-0.624%)\n",
       "5        6           TypeScript        7.345% (-0.554%)\n",
       "6        7                  PHP        5.665% (+0.357%)\n",
       "7        8                 Ruby        4.706% (-0.307%)\n",
       "8        9                    C        4.616% (+0.208%)\n",
       "9       10                   C#        3.442% (+0.300%)"
      ]
     },
     "execution_count": 46,
     "metadata": {},
     "output_type": "execute_result"
    }
   ],
   "source": [
    "import pandas as pd\n",
    "\n",
    "# Data\n",
    "data = {\n",
    "    \"Ranking\": [1, 2, 3, 4, 5, 6, 7, 8, 9, 10],\n",
    "    \"Programming Language\": [\n",
    "        \"Python\", \"Java\", \"Go\", \"JavaScript\", \"C++\",\n",
    "        \"TypeScript\", \"PHP\", \"Ruby\", \"C\", \"C#\"\n",
    "    ],\n",
    "    \"Percentage (YoY Change)\": [\n",
    "        \"16.925% (-0.284%)\", \"11.708% (+0.393%)\", \"10.262% (-0.162%)\", \n",
    "        \"9.859% (+0.306%)\", \"9.459% (-0.624%)\", \"7.345% (-0.554%)\", \n",
    "        \"5.665% (+0.357%)\", \"4.706% (-0.307%)\", \"4.616% (+0.208%)\", \n",
    "        \"3.442% (+0.300%)\"\n",
    "    ]\n",
    "}\n",
    "\n",
    "# Create DataFrame\n",
    "df = pd.DataFrame(data)\n",
    "\n",
    "# Display the data type\n",
    "print(type(df))\n",
    "\n",
    "# Display DataFrame\n",
    "df"
   ]
  },
  {
   "cell_type": "markdown",
   "metadata": {},
   "source": [
    "### Split the last column into two columns"
   ]
  },
  {
   "cell_type": "code",
   "execution_count": 47,
   "metadata": {},
   "outputs": [
    {
     "data": {
      "text/html": [
       "<div>\n",
       "<style scoped>\n",
       "    .dataframe tbody tr th:only-of-type {\n",
       "        vertical-align: middle;\n",
       "    }\n",
       "\n",
       "    .dataframe tbody tr th {\n",
       "        vertical-align: top;\n",
       "    }\n",
       "\n",
       "    .dataframe thead th {\n",
       "        text-align: right;\n",
       "    }\n",
       "</style>\n",
       "<table border=\"1\" class=\"dataframe\">\n",
       "  <thead>\n",
       "    <tr style=\"text-align: right;\">\n",
       "      <th></th>\n",
       "      <th>Ranking</th>\n",
       "      <th>Programming Language</th>\n",
       "      <th>Percentage (YoY Change)</th>\n",
       "      <th>Percentage</th>\n",
       "      <th>YoY Change</th>\n",
       "    </tr>\n",
       "  </thead>\n",
       "  <tbody>\n",
       "    <tr>\n",
       "      <th>0</th>\n",
       "      <td>1</td>\n",
       "      <td>Python</td>\n",
       "      <td>16.925% (-0.284%)</td>\n",
       "      <td>16.925</td>\n",
       "      <td>-0.284</td>\n",
       "    </tr>\n",
       "    <tr>\n",
       "      <th>1</th>\n",
       "      <td>2</td>\n",
       "      <td>Java</td>\n",
       "      <td>11.708% (+0.393%)</td>\n",
       "      <td>11.708</td>\n",
       "      <td>0.393</td>\n",
       "    </tr>\n",
       "    <tr>\n",
       "      <th>2</th>\n",
       "      <td>3</td>\n",
       "      <td>Go</td>\n",
       "      <td>10.262% (-0.162%)</td>\n",
       "      <td>10.262</td>\n",
       "      <td>-0.162</td>\n",
       "    </tr>\n",
       "    <tr>\n",
       "      <th>3</th>\n",
       "      <td>4</td>\n",
       "      <td>JavaScript</td>\n",
       "      <td>9.859% (+0.306%)</td>\n",
       "      <td>9.859</td>\n",
       "      <td>0.306</td>\n",
       "    </tr>\n",
       "    <tr>\n",
       "      <th>4</th>\n",
       "      <td>5</td>\n",
       "      <td>C++</td>\n",
       "      <td>9.459% (-0.624%)</td>\n",
       "      <td>9.459</td>\n",
       "      <td>-0.624</td>\n",
       "    </tr>\n",
       "    <tr>\n",
       "      <th>5</th>\n",
       "      <td>6</td>\n",
       "      <td>TypeScript</td>\n",
       "      <td>7.345% (-0.554%)</td>\n",
       "      <td>7.345</td>\n",
       "      <td>-0.554</td>\n",
       "    </tr>\n",
       "    <tr>\n",
       "      <th>6</th>\n",
       "      <td>7</td>\n",
       "      <td>PHP</td>\n",
       "      <td>5.665% (+0.357%)</td>\n",
       "      <td>5.665</td>\n",
       "      <td>0.357</td>\n",
       "    </tr>\n",
       "    <tr>\n",
       "      <th>7</th>\n",
       "      <td>8</td>\n",
       "      <td>Ruby</td>\n",
       "      <td>4.706% (-0.307%)</td>\n",
       "      <td>4.706</td>\n",
       "      <td>-0.307</td>\n",
       "    </tr>\n",
       "    <tr>\n",
       "      <th>8</th>\n",
       "      <td>9</td>\n",
       "      <td>C</td>\n",
       "      <td>4.616% (+0.208%)</td>\n",
       "      <td>4.616</td>\n",
       "      <td>0.208</td>\n",
       "    </tr>\n",
       "    <tr>\n",
       "      <th>9</th>\n",
       "      <td>10</td>\n",
       "      <td>C#</td>\n",
       "      <td>3.442% (+0.300%)</td>\n",
       "      <td>3.442</td>\n",
       "      <td>0.300</td>\n",
       "    </tr>\n",
       "  </tbody>\n",
       "</table>\n",
       "</div>"
      ],
      "text/plain": [
       "   Ranking Programming Language Percentage (YoY Change)  Percentage  \\\n",
       "0        1               Python       16.925% (-0.284%)      16.925   \n",
       "1        2                 Java       11.708% (+0.393%)      11.708   \n",
       "2        3                   Go       10.262% (-0.162%)      10.262   \n",
       "3        4           JavaScript        9.859% (+0.306%)       9.859   \n",
       "4        5                  C++        9.459% (-0.624%)       9.459   \n",
       "5        6           TypeScript        7.345% (-0.554%)       7.345   \n",
       "6        7                  PHP        5.665% (+0.357%)       5.665   \n",
       "7        8                 Ruby        4.706% (-0.307%)       4.706   \n",
       "8        9                    C        4.616% (+0.208%)       4.616   \n",
       "9       10                   C#        3.442% (+0.300%)       3.442   \n",
       "\n",
       "   YoY Change  \n",
       "0      -0.284  \n",
       "1       0.393  \n",
       "2      -0.162  \n",
       "3       0.306  \n",
       "4      -0.624  \n",
       "5      -0.554  \n",
       "6       0.357  \n",
       "7      -0.307  \n",
       "8       0.208  \n",
       "9       0.300  "
      ]
     },
     "execution_count": 47,
     "metadata": {},
     "output_type": "execute_result"
    }
   ],
   "source": [
    "# Extract the numeric values from \"Percentage (YoY Change)\"\n",
    "df[\"Percentage\"] = df[\"Percentage (YoY Change)\"].str.extract(r\"(\\d+\\.\\d+)%\").astype(float)\n",
    "df[\"YoY Change\"] = df[\"Percentage (YoY Change)\"].str.extract(r\"\\(([-+]?\\d+\\.\\d+)%\\)\").astype(float)\n",
    "\n",
    "# Display the updated DataFrame\n",
    "df"
   ]
  },
  {
   "cell_type": "markdown",
   "metadata": {},
   "source": [
    "### Extract a single column from the DataFrame"
   ]
  },
  {
   "cell_type": "code",
   "execution_count": 48,
   "metadata": {},
   "outputs": [
    {
     "name": "stdout",
     "output_type": "stream",
     "text": [
      "0        Python\n",
      "1          Java\n",
      "2            Go\n",
      "3    JavaScript\n",
      "4           C++\n",
      "5    TypeScript\n",
      "6           PHP\n",
      "7          Ruby\n",
      "8             C\n",
      "9            C#\n",
      "Name: Programming Language, dtype: object\n"
     ]
    }
   ],
   "source": [
    "languages = df[\"Programming Language\"]\n",
    "print(languages)"
   ]
  },
  {
   "cell_type": "markdown",
   "metadata": {},
   "source": [
    "### Extract  mulitple columns from the DataFrame"
   ]
  },
  {
   "cell_type": "code",
   "execution_count": 49,
   "metadata": {},
   "outputs": [
    {
     "name": "stdout",
     "output_type": "stream",
     "text": [
      "   Ranking  Percentage\n",
      "0        1      16.925\n",
      "1        2      11.708\n",
      "2        3      10.262\n",
      "3        4       9.859\n",
      "4        5       9.459\n",
      "5        6       7.345\n",
      "6        7       5.665\n",
      "7        8       4.706\n",
      "8        9       4.616\n",
      "9       10       3.442\n"
     ]
    }
   ],
   "source": [
    "subset = df[[\"Ranking\", \"Percentage\"]]\n",
    "print(subset)"
   ]
  },
  {
   "cell_type": "markdown",
   "metadata": {},
   "source": [
    "### Extract specific rows"
   ]
  },
  {
   "cell_type": "code",
   "execution_count": 50,
   "metadata": {},
   "outputs": [
    {
     "name": "stdout",
     "output_type": "stream",
     "text": [
      "Ranking                                    3\n",
      "Programming Language                      Go\n",
      "Percentage (YoY Change)    10.262% (-0.162%)\n",
      "Percentage                            10.262\n",
      "YoY Change                            -0.162\n",
      "Name: 2, dtype: object\n"
     ]
    }
   ],
   "source": [
    "# Extract the 3rd row (index 2, since Python is 0-based)\n",
    "row_3 = df.iloc[2]\n",
    "print(row_3)"
   ]
  },
  {
   "cell_type": "markdown",
   "metadata": {},
   "source": [
    "### Extract multiple rows by index range"
   ]
  },
  {
   "cell_type": "code",
   "execution_count": 51,
   "metadata": {},
   "outputs": [
    {
     "name": "stdout",
     "output_type": "stream",
     "text": [
      "   Ranking Programming Language Percentage (YoY Change)  Percentage  \\\n",
      "1        2                 Java       11.708% (+0.393%)      11.708   \n",
      "2        3                   Go       10.262% (-0.162%)      10.262   \n",
      "3        4           JavaScript        9.859% (+0.306%)       9.859   \n",
      "4        5                  C++        9.459% (-0.624%)       9.459   \n",
      "\n",
      "   YoY Change  \n",
      "1       0.393  \n",
      "2      -0.162  \n",
      "3       0.306  \n",
      "4      -0.624  \n"
     ]
    }
   ],
   "source": [
    "# Extract rows 2 to 5 (index 1 to 4)\n",
    "rows_2_to_5 = df.iloc[1:5]\n",
    "print(rows_2_to_5)"
   ]
  },
  {
   "cell_type": "markdown",
   "metadata": {},
   "source": [
    "### Extract rows based on conditions"
   ]
  },
  {
   "cell_type": "code",
   "execution_count": 52,
   "metadata": {},
   "outputs": [
    {
     "data": {
      "text/html": [
       "<div>\n",
       "<style scoped>\n",
       "    .dataframe tbody tr th:only-of-type {\n",
       "        vertical-align: middle;\n",
       "    }\n",
       "\n",
       "    .dataframe tbody tr th {\n",
       "        vertical-align: top;\n",
       "    }\n",
       "\n",
       "    .dataframe thead th {\n",
       "        text-align: right;\n",
       "    }\n",
       "</style>\n",
       "<table border=\"1\" class=\"dataframe\">\n",
       "  <thead>\n",
       "    <tr style=\"text-align: right;\">\n",
       "      <th></th>\n",
       "      <th>Ranking</th>\n",
       "      <th>Programming Language</th>\n",
       "      <th>Percentage (YoY Change)</th>\n",
       "      <th>Percentage</th>\n",
       "      <th>YoY Change</th>\n",
       "    </tr>\n",
       "  </thead>\n",
       "  <tbody>\n",
       "    <tr>\n",
       "      <th>0</th>\n",
       "      <td>1</td>\n",
       "      <td>Python</td>\n",
       "      <td>16.925% (-0.284%)</td>\n",
       "      <td>16.925</td>\n",
       "      <td>-0.284</td>\n",
       "    </tr>\n",
       "    <tr>\n",
       "      <th>1</th>\n",
       "      <td>2</td>\n",
       "      <td>Java</td>\n",
       "      <td>11.708% (+0.393%)</td>\n",
       "      <td>11.708</td>\n",
       "      <td>0.393</td>\n",
       "    </tr>\n",
       "    <tr>\n",
       "      <th>2</th>\n",
       "      <td>3</td>\n",
       "      <td>Go</td>\n",
       "      <td>10.262% (-0.162%)</td>\n",
       "      <td>10.262</td>\n",
       "      <td>-0.162</td>\n",
       "    </tr>\n",
       "  </tbody>\n",
       "</table>\n",
       "</div>"
      ],
      "text/plain": [
       "   Ranking Programming Language Percentage (YoY Change)  Percentage  \\\n",
       "0        1               Python       16.925% (-0.284%)      16.925   \n",
       "1        2                 Java       11.708% (+0.393%)      11.708   \n",
       "2        3                   Go       10.262% (-0.162%)      10.262   \n",
       "\n",
       "   YoY Change  \n",
       "0      -0.284  \n",
       "1       0.393  \n",
       "2      -0.162  "
      ]
     },
     "execution_count": 52,
     "metadata": {},
     "output_type": "execute_result"
    }
   ],
   "source": [
    "# Extract rows where \"Percentage\" is higher than 10\n",
    "high_ranks = df[df[\"Percentage\"] > 10]\n",
    "high_ranks"
   ]
  },
  {
   "cell_type": "markdown",
   "metadata": {},
   "source": [
    "### Extract specific cells: by row and column names"
   ]
  },
  {
   "cell_type": "code",
   "execution_count": 53,
   "metadata": {},
   "outputs": [
    {
     "name": "stdout",
     "output_type": "stream",
     "text": [
      "Python\n"
     ]
    }
   ],
   "source": [
    "# Extract the \"Programming Language\" of the top-ranked entry\n",
    "top_language = df.loc[0, \"Programming Language\"]\n",
    "print(top_language)"
   ]
  },
  {
   "cell_type": "markdown",
   "metadata": {},
   "source": [
    "### Extract specific cells: by row and column indices"
   ]
  },
  {
   "cell_type": "code",
   "execution_count": 54,
   "metadata": {},
   "outputs": [
    {
     "name": "stdout",
     "output_type": "stream",
     "text": [
      "9.459% (-0.624%)\n"
     ]
    }
   ],
   "source": [
    "# Extract the Percentage (YoY Change) of the 5th row (C++)\n",
    "percentage_cplusplus = df.iloc[4, 2]  # 5th row, 3rd column (Percentage (YoY Change))\n",
    "print(percentage_cplusplus)"
   ]
  },
  {
   "cell_type": "markdown",
   "metadata": {},
   "source": [
    "### Filter data: rows with positive Year-over-Year (YoY) change"
   ]
  },
  {
   "cell_type": "code",
   "execution_count": 55,
   "metadata": {},
   "outputs": [
    {
     "data": {
      "text/html": [
       "<div>\n",
       "<style scoped>\n",
       "    .dataframe tbody tr th:only-of-type {\n",
       "        vertical-align: middle;\n",
       "    }\n",
       "\n",
       "    .dataframe tbody tr th {\n",
       "        vertical-align: top;\n",
       "    }\n",
       "\n",
       "    .dataframe thead th {\n",
       "        text-align: right;\n",
       "    }\n",
       "</style>\n",
       "<table border=\"1\" class=\"dataframe\">\n",
       "  <thead>\n",
       "    <tr style=\"text-align: right;\">\n",
       "      <th></th>\n",
       "      <th>Ranking</th>\n",
       "      <th>Programming Language</th>\n",
       "      <th>Percentage (YoY Change)</th>\n",
       "      <th>Percentage</th>\n",
       "      <th>YoY Change</th>\n",
       "    </tr>\n",
       "  </thead>\n",
       "  <tbody>\n",
       "    <tr>\n",
       "      <th>1</th>\n",
       "      <td>2</td>\n",
       "      <td>Java</td>\n",
       "      <td>11.708% (+0.393%)</td>\n",
       "      <td>11.708</td>\n",
       "      <td>0.393</td>\n",
       "    </tr>\n",
       "    <tr>\n",
       "      <th>3</th>\n",
       "      <td>4</td>\n",
       "      <td>JavaScript</td>\n",
       "      <td>9.859% (+0.306%)</td>\n",
       "      <td>9.859</td>\n",
       "      <td>0.306</td>\n",
       "    </tr>\n",
       "    <tr>\n",
       "      <th>6</th>\n",
       "      <td>7</td>\n",
       "      <td>PHP</td>\n",
       "      <td>5.665% (+0.357%)</td>\n",
       "      <td>5.665</td>\n",
       "      <td>0.357</td>\n",
       "    </tr>\n",
       "    <tr>\n",
       "      <th>8</th>\n",
       "      <td>9</td>\n",
       "      <td>C</td>\n",
       "      <td>4.616% (+0.208%)</td>\n",
       "      <td>4.616</td>\n",
       "      <td>0.208</td>\n",
       "    </tr>\n",
       "    <tr>\n",
       "      <th>9</th>\n",
       "      <td>10</td>\n",
       "      <td>C#</td>\n",
       "      <td>3.442% (+0.300%)</td>\n",
       "      <td>3.442</td>\n",
       "      <td>0.300</td>\n",
       "    </tr>\n",
       "  </tbody>\n",
       "</table>\n",
       "</div>"
      ],
      "text/plain": [
       "   Ranking Programming Language Percentage (YoY Change)  Percentage  \\\n",
       "1        2                 Java       11.708% (+0.393%)      11.708   \n",
       "3        4           JavaScript        9.859% (+0.306%)       9.859   \n",
       "6        7                  PHP        5.665% (+0.357%)       5.665   \n",
       "8        9                    C        4.616% (+0.208%)       4.616   \n",
       "9       10                   C#        3.442% (+0.300%)       3.442   \n",
       "\n",
       "   YoY Change  \n",
       "1       0.393  \n",
       "3       0.306  \n",
       "6       0.357  \n",
       "8       0.208  \n",
       "9       0.300  "
      ]
     },
     "execution_count": 55,
     "metadata": {},
     "output_type": "execute_result"
    }
   ],
   "source": [
    "positive_yoy = df[df[\"YoY Change\"] > 0]\n",
    "positive_yoy"
   ]
  },
  {
   "cell_type": "markdown",
   "metadata": {},
   "source": [
    "### Sorting the data: by percentage in descending order"
   ]
  },
  {
   "cell_type": "code",
   "execution_count": 56,
   "metadata": {},
   "outputs": [
    {
     "data": {
      "text/html": [
       "<div>\n",
       "<style scoped>\n",
       "    .dataframe tbody tr th:only-of-type {\n",
       "        vertical-align: middle;\n",
       "    }\n",
       "\n",
       "    .dataframe tbody tr th {\n",
       "        vertical-align: top;\n",
       "    }\n",
       "\n",
       "    .dataframe thead th {\n",
       "        text-align: right;\n",
       "    }\n",
       "</style>\n",
       "<table border=\"1\" class=\"dataframe\">\n",
       "  <thead>\n",
       "    <tr style=\"text-align: right;\">\n",
       "      <th></th>\n",
       "      <th>Ranking</th>\n",
       "      <th>Programming Language</th>\n",
       "      <th>Percentage (YoY Change)</th>\n",
       "      <th>Percentage</th>\n",
       "      <th>YoY Change</th>\n",
       "    </tr>\n",
       "  </thead>\n",
       "  <tbody>\n",
       "    <tr>\n",
       "      <th>0</th>\n",
       "      <td>1</td>\n",
       "      <td>Python</td>\n",
       "      <td>16.925% (-0.284%)</td>\n",
       "      <td>16.925</td>\n",
       "      <td>-0.284</td>\n",
       "    </tr>\n",
       "    <tr>\n",
       "      <th>1</th>\n",
       "      <td>2</td>\n",
       "      <td>Java</td>\n",
       "      <td>11.708% (+0.393%)</td>\n",
       "      <td>11.708</td>\n",
       "      <td>0.393</td>\n",
       "    </tr>\n",
       "    <tr>\n",
       "      <th>2</th>\n",
       "      <td>3</td>\n",
       "      <td>Go</td>\n",
       "      <td>10.262% (-0.162%)</td>\n",
       "      <td>10.262</td>\n",
       "      <td>-0.162</td>\n",
       "    </tr>\n",
       "    <tr>\n",
       "      <th>3</th>\n",
       "      <td>4</td>\n",
       "      <td>JavaScript</td>\n",
       "      <td>9.859% (+0.306%)</td>\n",
       "      <td>9.859</td>\n",
       "      <td>0.306</td>\n",
       "    </tr>\n",
       "    <tr>\n",
       "      <th>4</th>\n",
       "      <td>5</td>\n",
       "      <td>C++</td>\n",
       "      <td>9.459% (-0.624%)</td>\n",
       "      <td>9.459</td>\n",
       "      <td>-0.624</td>\n",
       "    </tr>\n",
       "    <tr>\n",
       "      <th>5</th>\n",
       "      <td>6</td>\n",
       "      <td>TypeScript</td>\n",
       "      <td>7.345% (-0.554%)</td>\n",
       "      <td>7.345</td>\n",
       "      <td>-0.554</td>\n",
       "    </tr>\n",
       "    <tr>\n",
       "      <th>6</th>\n",
       "      <td>7</td>\n",
       "      <td>PHP</td>\n",
       "      <td>5.665% (+0.357%)</td>\n",
       "      <td>5.665</td>\n",
       "      <td>0.357</td>\n",
       "    </tr>\n",
       "    <tr>\n",
       "      <th>7</th>\n",
       "      <td>8</td>\n",
       "      <td>Ruby</td>\n",
       "      <td>4.706% (-0.307%)</td>\n",
       "      <td>4.706</td>\n",
       "      <td>-0.307</td>\n",
       "    </tr>\n",
       "    <tr>\n",
       "      <th>8</th>\n",
       "      <td>9</td>\n",
       "      <td>C</td>\n",
       "      <td>4.616% (+0.208%)</td>\n",
       "      <td>4.616</td>\n",
       "      <td>0.208</td>\n",
       "    </tr>\n",
       "    <tr>\n",
       "      <th>9</th>\n",
       "      <td>10</td>\n",
       "      <td>C#</td>\n",
       "      <td>3.442% (+0.300%)</td>\n",
       "      <td>3.442</td>\n",
       "      <td>0.300</td>\n",
       "    </tr>\n",
       "  </tbody>\n",
       "</table>\n",
       "</div>"
      ],
      "text/plain": [
       "   Ranking Programming Language Percentage (YoY Change)  Percentage  \\\n",
       "0        1               Python       16.925% (-0.284%)      16.925   \n",
       "1        2                 Java       11.708% (+0.393%)      11.708   \n",
       "2        3                   Go       10.262% (-0.162%)      10.262   \n",
       "3        4           JavaScript        9.859% (+0.306%)       9.859   \n",
       "4        5                  C++        9.459% (-0.624%)       9.459   \n",
       "5        6           TypeScript        7.345% (-0.554%)       7.345   \n",
       "6        7                  PHP        5.665% (+0.357%)       5.665   \n",
       "7        8                 Ruby        4.706% (-0.307%)       4.706   \n",
       "8        9                    C        4.616% (+0.208%)       4.616   \n",
       "9       10                   C#        3.442% (+0.300%)       3.442   \n",
       "\n",
       "   YoY Change  \n",
       "0      -0.284  \n",
       "1       0.393  \n",
       "2      -0.162  \n",
       "3       0.306  \n",
       "4      -0.624  \n",
       "5      -0.554  \n",
       "6       0.357  \n",
       "7      -0.307  \n",
       "8       0.208  \n",
       "9       0.300  "
      ]
     },
     "execution_count": 56,
     "metadata": {},
     "output_type": "execute_result"
    }
   ],
   "source": [
    "sorted_by_percentage = df.sort_values(by=\"Percentage\", ascending=False)\n",
    "sorted_by_percentage"
   ]
  },
  {
   "cell_type": "markdown",
   "metadata": {},
   "source": [
    "### Sorting the data: by YoY change in ascending order"
   ]
  },
  {
   "cell_type": "code",
   "execution_count": 57,
   "metadata": {},
   "outputs": [
    {
     "data": {
      "text/html": [
       "<div>\n",
       "<style scoped>\n",
       "    .dataframe tbody tr th:only-of-type {\n",
       "        vertical-align: middle;\n",
       "    }\n",
       "\n",
       "    .dataframe tbody tr th {\n",
       "        vertical-align: top;\n",
       "    }\n",
       "\n",
       "    .dataframe thead th {\n",
       "        text-align: right;\n",
       "    }\n",
       "</style>\n",
       "<table border=\"1\" class=\"dataframe\">\n",
       "  <thead>\n",
       "    <tr style=\"text-align: right;\">\n",
       "      <th></th>\n",
       "      <th>Ranking</th>\n",
       "      <th>Programming Language</th>\n",
       "      <th>Percentage (YoY Change)</th>\n",
       "      <th>Percentage</th>\n",
       "      <th>YoY Change</th>\n",
       "    </tr>\n",
       "  </thead>\n",
       "  <tbody>\n",
       "    <tr>\n",
       "      <th>4</th>\n",
       "      <td>5</td>\n",
       "      <td>C++</td>\n",
       "      <td>9.459% (-0.624%)</td>\n",
       "      <td>9.459</td>\n",
       "      <td>-0.624</td>\n",
       "    </tr>\n",
       "    <tr>\n",
       "      <th>5</th>\n",
       "      <td>6</td>\n",
       "      <td>TypeScript</td>\n",
       "      <td>7.345% (-0.554%)</td>\n",
       "      <td>7.345</td>\n",
       "      <td>-0.554</td>\n",
       "    </tr>\n",
       "    <tr>\n",
       "      <th>7</th>\n",
       "      <td>8</td>\n",
       "      <td>Ruby</td>\n",
       "      <td>4.706% (-0.307%)</td>\n",
       "      <td>4.706</td>\n",
       "      <td>-0.307</td>\n",
       "    </tr>\n",
       "    <tr>\n",
       "      <th>0</th>\n",
       "      <td>1</td>\n",
       "      <td>Python</td>\n",
       "      <td>16.925% (-0.284%)</td>\n",
       "      <td>16.925</td>\n",
       "      <td>-0.284</td>\n",
       "    </tr>\n",
       "    <tr>\n",
       "      <th>2</th>\n",
       "      <td>3</td>\n",
       "      <td>Go</td>\n",
       "      <td>10.262% (-0.162%)</td>\n",
       "      <td>10.262</td>\n",
       "      <td>-0.162</td>\n",
       "    </tr>\n",
       "    <tr>\n",
       "      <th>8</th>\n",
       "      <td>9</td>\n",
       "      <td>C</td>\n",
       "      <td>4.616% (+0.208%)</td>\n",
       "      <td>4.616</td>\n",
       "      <td>0.208</td>\n",
       "    </tr>\n",
       "    <tr>\n",
       "      <th>9</th>\n",
       "      <td>10</td>\n",
       "      <td>C#</td>\n",
       "      <td>3.442% (+0.300%)</td>\n",
       "      <td>3.442</td>\n",
       "      <td>0.300</td>\n",
       "    </tr>\n",
       "    <tr>\n",
       "      <th>3</th>\n",
       "      <td>4</td>\n",
       "      <td>JavaScript</td>\n",
       "      <td>9.859% (+0.306%)</td>\n",
       "      <td>9.859</td>\n",
       "      <td>0.306</td>\n",
       "    </tr>\n",
       "    <tr>\n",
       "      <th>6</th>\n",
       "      <td>7</td>\n",
       "      <td>PHP</td>\n",
       "      <td>5.665% (+0.357%)</td>\n",
       "      <td>5.665</td>\n",
       "      <td>0.357</td>\n",
       "    </tr>\n",
       "    <tr>\n",
       "      <th>1</th>\n",
       "      <td>2</td>\n",
       "      <td>Java</td>\n",
       "      <td>11.708% (+0.393%)</td>\n",
       "      <td>11.708</td>\n",
       "      <td>0.393</td>\n",
       "    </tr>\n",
       "  </tbody>\n",
       "</table>\n",
       "</div>"
      ],
      "text/plain": [
       "   Ranking Programming Language Percentage (YoY Change)  Percentage  \\\n",
       "4        5                  C++        9.459% (-0.624%)       9.459   \n",
       "5        6           TypeScript        7.345% (-0.554%)       7.345   \n",
       "7        8                 Ruby        4.706% (-0.307%)       4.706   \n",
       "0        1               Python       16.925% (-0.284%)      16.925   \n",
       "2        3                   Go       10.262% (-0.162%)      10.262   \n",
       "8        9                    C        4.616% (+0.208%)       4.616   \n",
       "9       10                   C#        3.442% (+0.300%)       3.442   \n",
       "3        4           JavaScript        9.859% (+0.306%)       9.859   \n",
       "6        7                  PHP        5.665% (+0.357%)       5.665   \n",
       "1        2                 Java       11.708% (+0.393%)      11.708   \n",
       "\n",
       "   YoY Change  \n",
       "4      -0.624  \n",
       "5      -0.554  \n",
       "7      -0.307  \n",
       "0      -0.284  \n",
       "2      -0.162  \n",
       "8       0.208  \n",
       "9       0.300  \n",
       "3       0.306  \n",
       "6       0.357  \n",
       "1       0.393  "
      ]
     },
     "execution_count": 57,
     "metadata": {},
     "output_type": "execute_result"
    }
   ],
   "source": [
    "sorted_by_yoy = df.sort_values(by=\"YoY Change\", ascending=True)\n",
    "sorted_by_yoy"
   ]
  },
  {
   "cell_type": "markdown",
   "metadata": {},
   "source": [
    "### Visualization"
   ]
  },
  {
   "cell_type": "code",
   "execution_count": 58,
   "metadata": {},
   "outputs": [
    {
     "data": {
      "image/png": "[encoded data removed]",
      "text/plain": [
       "<Figure size 800x800 with 1 Axes>"
      ]
     },
     "metadata": {},
     "output_type": "display_data"
    }
   ],
   "source": [
    "import matplotlib.pyplot as plt\n",
    "\n",
    "# Pie chart\n",
    "plt.figure(figsize=(8, 8))\n",
    "colors = plt.cm.tab10(range(len(df)))  # Use tab10 colormap for diversity\n",
    "plt.pie(\n",
    "    df[\"Percentage\"],\n",
    "    labels=df[\"Programming Language\"],\n",
    "    autopct=\"%1.1f%%\",\n",
    "    startangle=140,\n",
    "    colors=colors,\n",
    "    textprops={\"fontsize\": 10}\n",
    ")\n",
    "plt.title(\"Programming Language Popularity (Percentage)\", fontsize=14)\n",
    "plt.show()"
   ]
  },
  {
   "cell_type": "markdown",
   "metadata": {
    "id": "E71CFLUjSWNN"
   },
   "source": [
    "***\n",
    "\n",
    "# More detailes\n",
    "\n",
    "* Have a look at Appendices A, B & C of the textbook: [Optimization Algorithm](https://www.manning.com/books/optimization-algorithms) and its [GitHub repo](https://github.com/Optimization-Algorithms-Book/Code-Listings).\n",
    "* [The Python Tutorial](https://docs.python.org/3/tutorial/).\n"
   ]
  }
 ],
 "metadata": {
  "colab": {
   "name": "Python Refresher",
   "private_outputs": true,
   "provenance": []
  },
  "kernelspec": {
   "display_name": "ox",
   "language": "python",
   "name": "python3"
  },
  "language_info": {
   "codemirror_mode": {
    "name": "ipython",
    "version": 3
   },
   "file_extension": ".py",
   "mimetype": "text/x-python",
   "name": "python",
   "nbconvert_exporter": "python",
   "pygments_lexer": "ipython3",
   "version": "3.13.1"
  }
 },
 "nbformat": 4,
 "nbformat_minor": 0
}
