{
  "cells": [
    {
      "attachments": {},
      "cell_type": "markdown",
      "id": "4481730d-578b-49b6-88b2-e87106241577",
      "metadata": {
        "id": "4481730d-578b-49b6-88b2-e87106241577"
      },
      "source": [
        "# Mathematical Programming Solvers in Python\n",
        "\n",
        "Based on [Optimization Algorithms: AI techniques for design, planning, and control problems](https://github.com/Optimization-Algorithms-Book/Code-Listings) GitHub Repo\n",
        "\n",
        "Examples of mathematical programming solvers in Python:\n",
        "\n",
        "| Library     | Description |\n",
        "| --- | --- | \n",
        "| [SciPy](https://docs.scipy.org/doc/scipy/tutorial/optimize.html)| SciPy contains modules for optimization, linear algebra, integration, interpolation, special functions, FFT, signal and image processing, ODE solvers and other tasks common in science and engineering. | \n",
        "| [PuLP](https://coin-or.github.io/pulp/)| PuLP is an LP modeler written in python that can generate MPS or LP files and call GLPK, COIN CLP/CBC, CPLEX, and GUROBI to solve linear problems. | \n",
        "| [OR-Tools](https://developers.google.com/optimization)| Google OR-Tools is a free and open-source software suite developed by Google for solving linear programming, mixed integer programming, constraint programming, vehicle routing, and related optimization problems | \n",
        "| [Gurobi](https://www.gurobi.com/documentation/9.5/examples/python_examples.html)| Solver for mathematical programming. | \n",
        "| [CasADi](https://web.casadi.org/)| Open-source tool for nonlinear optimization and algorithmic differentiation. | \n",
        "| [PYTHON-MIP](https://www.python-mip.com/)| Collection of Python tools for the modeling and solution of Mixed-Integer Linear programs (MIPs) | \n",
        "| [Pyomo](http://www.pyomo.org/)| Collection of Python software packages for formulating optimization models. | \n",
        "| [GEKKO](https://gekko.readthedocs.io/en/latest/)| Python package to solve large-scale mixed-integer and differential algebraic equations with nonlinear programming solvers.  | \n",
        "| [CVXPY](https://www.cvxpy.org/)| Open source Python-embedded modeling language for convex optimization problems.  | \n",
        "| [PyMathProg](https://pymprog.sourceforge.net/)| Mathematical programming environment for Python | \n",
        "| [cvxopt](https://cvxopt.org/)| Free software package for convex optimization | \n",
        "| [OptLang](https://optlang.readthedocs.io/en/latest/)|  Python package for solving mathematical optimization problems | \n",
        "| [PICOS](https://picos-api.gitlab.io/picos/)| A Python interface to conic optimization solvers | \n",
        "| [cylp](https://github.com/coin-or/cylp)| Python interface to COIN-OR's Linear and mixed-integer program solvers (CLP, CBC, and CGL). | \n",
        "| [linopy](https://linopy.readthedocs.io/en/latest/)| Linear optimization with N-D labeled variables. This library can be used to solve  Linear, Integer, Mixed-Integer, or Quadratic Programming problems.| \n",
        "| [Timefold Solver](https://github.com/TimefoldAI/timefold-solver)| can be used to optimize the Vehicle Routing Problem, Employee Rostering, Maintenance Scheduling, Task Assignment, School Timetabling, Cloud Optimization, Conference Scheduling, Job Shop Scheduling and many more planning problems. | \n",
        "| [PyConcorde](https://github.com/jvkersch/pyconcorde)| a solver, specifically designed for solving the Traveling Salesman Problem (TSP) | "
      ]
    },
    {
      "attachments": {},
      "cell_type": "markdown",
      "id": "1b0557cc-a5f5-4f18-86ad-cd20816ffaca",
      "metadata": {
        "id": "1b0557cc-a5f5-4f18-86ad-cd20816ffaca"
      },
      "source": [
        "## Chess Set Problem"
      ]
    },
    {
      "attachments": {},
      "cell_type": "markdown",
      "id": "2e785ccb-8406-48ef-af7d-26c50ed49591",
      "metadata": {
        "id": "2e785ccb-8406-48ef-af7d-26c50ed49591"
      },
      "source": [
        "find $x_1$ and $x_2$ that maximize $5\\times x_1 + 12\\times *x2$\n",
        "\n",
        "subject to\n",
        "\n",
        "Machining time constraint: $x_1 + 2\\times x_2 <= 160 $\n",
        "\n",
        "Weight constraint: $x_1 + 3\\times x_2 <= 200$\n",
        "\n",
        "Non-negativity constraints: $x_1>0$ and $x_2>=0$"
      ]
    },
    {
      "attachments": {},
      "cell_type": "markdown",
      "id": "4434f58a-21e2-4ef3-a5cd-61958fde33ae",
      "metadata": {
        "id": "4434f58a-21e2-4ef3-a5cd-61958fde33ae",
        "tags": []
      },
      "source": [
        "## Solving Chess Set Problem using SciPy"
      ]
    },
    {
      "cell_type": "code",
      "execution_count": 1,
      "id": "947d1881-9d80-44de-a9b2-f985b346db5e",
      "metadata": {
        "colab": {
          "base_uri": "https://localhost:8080/"
        },
        "id": "947d1881-9d80-44de-a9b2-f985b346db5e",
        "outputId": "65c2993e-51e4-4b08-9bf1-f872da8e1e81"
      },
      "outputs": [
        {
          "name": "stdout",
          "output_type": "stream",
          "text": [
            "LP Solution:\n",
            "Profit: = 811.43 $\n",
            "Make 11.0 small sets, and make 63.0 large sets\n"
          ]
        }
      ],
      "source": [
        "# uncomment to install\n",
        "#!pip install scipy\n",
        "import numpy as np\n",
        "import scipy\n",
        "from scipy.optimize import linprog\n",
        "\n",
        "# declare coefficients of the objective function. profit maximization is converted into minimization problem as per SciPy requirement\n",
        "c = -np.array([5,12])\n",
        "\n",
        "lhs_constraints=([3,2], # machining time constraint\n",
        "                 [1,3]) # weight constraint\n",
        "\n",
        "rhs_constraints=([160, # machining time constraint\n",
        "                  200]) # weight constraint\n",
        "\n",
        "bounds = [(0, np.inf), (0, np.inf)]  # Bounds of the decision variables\n",
        "\n",
        "results = linprog(c=c, A_ub=lhs_constraints, b_ub=rhs_constraints, bounds=bounds, method='highs-ds')\n",
        "\n",
        "\n",
        "# print the results\n",
        "print('LP Solution:')\n",
        "print(f'Profit: = {-round(results.fun,2)} $')\n",
        "print(f'Make {round(results.x[0],0)} small sets, and make {round(results.x[1],0)} large sets')"
      ]
    },
    {
      "attachments": {},
      "cell_type": "markdown",
      "id": "ef308675-7ee2-4902-8141-60b9358adae1",
      "metadata": {
        "id": "ef308675-7ee2-4902-8141-60b9358adae1"
      },
      "source": [
        "## Solving Chess Set Problem using PuLP"
      ]
    },
    {
      "cell_type": "code",
      "execution_count": 2,
      "id": "882c6f47-d2eb-4458-a502-eb2fd4046b00",
      "metadata": {
        "colab": {
          "base_uri": "https://localhost:8080/"
        },
        "id": "882c6f47-d2eb-4458-a502-eb2fd4046b00",
        "outputId": "8dcf1c58-980a-4cbc-efb2-c5ba911211d8"
      },
      "outputs": [
        {
          "name": "stdout",
          "output_type": "stream",
          "text": [
            "LP Solution:\n",
            "Profit: = 811.0 $\n",
            "Make 11.0 small sets, and make 63.0 large sets\n"
          ]
        }
      ],
      "source": [
        "# !pip install pulp\n",
        "from pulp import LpMaximize, LpProblem, LpVariable, lpSum, LpStatus\n",
        "\n",
        "# Define the model\n",
        "model = LpProblem(name='ChessSet', sense=LpMaximize)\n",
        "\n",
        "# Define the decision variables\n",
        "# x = {i: LpVariable(name=f\"x{i}\", lowBound=0, upBound = None, cat='Integer') for i in range(1, 3)}\n",
        "x1 = LpVariable('SmallSet', lowBound = 0, upBound =  None, cat='Integer')\n",
        "x2 = LpVariable('LargeSet', lowBound = 0, upBound =  None, cat='Integer')\n",
        "\n",
        "# Add constraints\n",
        "model += (3*x1 + 2*x2 <=160, 'Machining time constraint')\n",
        "model += (  x1 + 3*x2 <= 200, 'Weight constraint')\n",
        "\n",
        "# Set the profit as the objective function\n",
        "profit= 5*x1 + 12*x2\n",
        "model.setObjective(profit)\n",
        "\n",
        "# Solve the optimization problem\n",
        "model.solve()\n",
        "\n",
        "# print the results\n",
        "print('LP Solution:')\n",
        "print(f'Profit: = {model.objective.value()} $')    \n",
        "print(f'Make {x1.value()} small sets, and make {x2.value()} large sets')"
      ]
    },
    {
      "attachments": {},
      "cell_type": "markdown",
      "id": "edce652f",
      "metadata": {},
      "source": [
        "## Solving Chess Set Problem using CasADi"
      ]
    },
    {
      "cell_type": "code",
      "execution_count": 3,
      "id": "c6fefc6f",
      "metadata": {},
      "outputs": [
        {
          "name": "stdout",
          "output_type": "stream",
          "text": [
            "\n",
            "******************************************************************************\n",
            "This program contains Ipopt, a library for large-scale nonlinear optimization.\n",
            " Ipopt is released as open source code under the Eclipse Public License (EPL).\n",
            "         For more information visit https://github.com/coin-or/Ipopt\n",
            "******************************************************************************\n",
            "\n",
            "This is Ipopt version 3.14.11, running with linear solver MUMPS 5.4.1.\n",
            "\n",
            "Number of nonzeros in equality constraint Jacobian...:        0\n",
            "Number of nonzeros in inequality constraint Jacobian.:        6\n",
            "Number of nonzeros in Lagrangian Hessian.............:        0\n",
            "\n",
            "Total number of variables............................:        2\n",
            "                     variables with only lower bounds:        0\n",
            "                variables with lower and upper bounds:        0\n",
            "                     variables with only upper bounds:        0\n",
            "Total number of equality constraints.................:        0\n",
            "Total number of inequality constraints...............:        4\n",
            "        inequality constraints with only lower bounds:        2\n",
            "   inequality constraints with lower and upper bounds:        0\n",
            "        inequality constraints with only upper bounds:        2\n",
            "\n",
            "iter    objective    inf_pr   inf_du lg(mu)  ||d||  lg(rg) alpha_du alpha_pr  ls\n",
            "   0 -0.0000000e+00 0.00e+00 1.94e+00  -1.0 0.00e+00    -  0.00e+00 0.00e+00   0\n",
            "   1 -3.5555232e+00 0.00e+00 1.20e+01  -1.0 9.39e-01    -  7.63e-02 1.00e+00f  1\n",
            "   2 -7.9219964e+02 0.00e+00 7.71e+00  -1.0 3.44e+02    -  2.17e-03 5.74e-01f  1\n",
            "   3 -8.0016706e+02 0.00e+00 5.86e+00  -1.0 8.19e+00    -  5.15e-01 2.41e-01f  1\n",
            "   4 -8.1019982e+02 0.00e+00 1.00e-06  -1.0 2.35e+01    -  1.00e+00 1.00e+00f  1\n",
            "   5 -8.1106681e+02 0.00e+00 7.23e-03  -1.0 1.99e+00    -  9.62e-01 1.00e+00f  1\n",
            "   6 -8.1138868e+02 0.00e+00 2.00e-07  -1.7 5.65e-01    -  1.00e+00 1.00e+00f  1\n",
            "   7 -8.1142825e+02 0.00e+00 1.50e-09  -3.8 4.60e-02    -  1.00e+00 1.00e+00f  1\n",
            "   8 -8.1142858e+02 0.00e+00 1.84e-11  -5.7 4.22e-04    -  1.00e+00 1.00e+00f  1\n",
            "   9 -8.1142858e+02 0.00e+00 2.53e-14  -8.6 4.30e-06    -  1.00e+00 1.00e+00f  1\n",
            "\n",
            "Number of Iterations....: 9\n",
            "\n",
            "                                   (scaled)                 (unscaled)\n",
            "Objective...............:  -8.1142857953784505e+02   -8.1142857953784505e+02\n",
            "Dual infeasibility......:   2.5313084961453569e-14    2.5313084961453569e-14\n",
            "Constraint violation....:   0.0000000000000000e+00    0.0000000000000000e+00\n",
            "Variable bound violation:   0.0000000000000000e+00    0.0000000000000000e+00\n",
            "Complementarity.........:   2.5061857356472433e-09    2.5061857356472433e-09\n",
            "Overall NLP error.......:   2.5061857356472433e-09    2.5061857356472433e-09\n",
            "\n",
            "\n",
            "Number of objective function evaluations             = 10\n",
            "Number of objective gradient evaluations             = 10\n",
            "Number of equality constraint evaluations            = 0\n",
            "Number of inequality constraint evaluations          = 10\n",
            "Number of equality constraint Jacobian evaluations   = 0\n",
            "Number of inequality constraint Jacobian evaluations = 10\n",
            "Number of Lagrangian Hessian evaluations             = 9\n",
            "Total seconds in IPOPT                               = 0.004\n",
            "\n",
            "EXIT: Optimal Solution Found.\n",
            "      solver  :   t_proc      (avg)   t_wall      (avg)    n_eval\n",
            "       nlp_f  |        0 (       0)   4.00us (400.00ns)        10\n",
            "       nlp_g  |        0 (       0)  12.00us (  1.20us)        10\n",
            "  nlp_grad_f  |        0 (       0)  18.00us (  1.64us)        11\n",
            "  nlp_hess_l  |        0 (       0)   2.00us (222.22ns)         9\n",
            "   nlp_jac_g  |        0 (       0)  38.00us (  3.45us)        11\n",
            "       total  |   5.00ms (  5.00ms)   4.85ms (  4.85ms)         1\n",
            "LP Solution:\n",
            "Profit = 811.43 $\n",
            "Make 11.43 small sets, and 62.86 large sets\n"
          ]
        }
      ],
      "source": [
        "# !pip install casadi\n",
        "\n",
        "import casadi as ca\n",
        "\n",
        "opti = ca.Opti()\n",
        "\n",
        "# Define the variables\n",
        "x1 = opti.variable()\n",
        "x2 = opti.variable()\n",
        "\n",
        "# Define the constraints\n",
        "opti.subject_to(3*x1 + 2*x2 <= 160)\n",
        "opti.subject_to(x1 + 3*x2 <= 200)\n",
        "opti.subject_to(x1>=0)\n",
        "opti.subject_to(x2>=0)\n",
        "\n",
        "# Define the objective function\n",
        "f=-5*x1-12*x2 # convert minimization problem into maximization problem\n",
        "opti.minimize(f)\n",
        "\n",
        "# Define the solver\n",
        "opti.solver('ipopt')\n",
        "\n",
        "# Solve the problem\n",
        "sol = opti.solve()\n",
        "\n",
        "# print the results\n",
        "print('LP Solution:')\n",
        "print('Profit =', round(-sol.value(f),2),'$')\n",
        "print('Make', round(sol.value(x1),2),'small sets, and', round(sol.value(x2),2), 'large sets')"
      ]
    },
    {
      "attachments": {},
      "cell_type": "markdown",
      "id": "6b8cecab-5c5d-4610-bc33-5fc36f30f709",
      "metadata": {
        "id": "6b8cecab-5c5d-4610-bc33-5fc36f30f709"
      },
      "source": [
        "## Solving Chess Set Problem using GEKKO"
      ]
    },
    {
      "cell_type": "code",
      "execution_count": 4,
      "id": "55d8d2bc-a635-46d8-b6c5-a72348d95e1d",
      "metadata": {
        "colab": {
          "base_uri": "https://localhost:8080/"
        },
        "id": "55d8d2bc-a635-46d8-b6c5-a72348d95e1d",
        "outputId": "a213a3c6-6fbf-4a3c-f739-19b9d6a3eb98"
      },
      "outputs": [
        {
          "name": "stdout",
          "output_type": "stream",
          "text": [
            "apm 163.116.183.23_gk_model0 <br><pre> ----------------------------------------------------------------\n",
            " APMonitor, Version 1.0.3\n",
            " APMonitor Optimization Suite\n",
            " ----------------------------------------------------------------\n",
            " \n",
            " \n",
            " Warning: there is insufficient data in CSV file 163.116.183.23_gk_model0.csv\n",
            " \n",
            " --------- APM Model Size ------------\n",
            " Each time step contains\n",
            "   Objects      :            0\n",
            "   Constants    :            0\n",
            "   Variables    :            6\n",
            "   Intermediates:            0\n",
            "   Connections  :            0\n",
            "   Equations    :            5\n",
            "   Residuals    :            5\n",
            " \n",
            " Number of state variables:              6\n",
            " Number of total equations: -            4\n",
            " Number of slack variables: -            4\n",
            " ---------------------------------------\n",
            " Degrees of freedom       :             -2\n",
            " \n",
            " * Warning: DOF <= 0\n",
            " **********************************************\n",
            " Steady State Optimization with Interior Point Solver\n",
            " **********************************************\n",
            "  \n",
            "  \n",
            " Info: Exact Hessian\n",
            "\n",
            "******************************************************************************\n",
            "This program contains Ipopt, a library for large-scale nonlinear optimization.\n",
            " Ipopt is released as open source code under the Eclipse Public License (EPL).\n",
            "         For more information visit http://projects.coin-or.org/Ipopt\n",
            "******************************************************************************\n",
            "\n",
            "This is Ipopt version 3.12.10, running with linear solver ma57.\n",
            "\n",
            "Number of nonzeros in equality constraint Jacobian...:       10\n",
            "Number of nonzeros in inequality constraint Jacobian.:        0\n",
            "Number of nonzeros in Lagrangian Hessian.............:        0\n",
            "\n",
            "Total number of variables............................:        6\n",
            "                     variables with only lower bounds:        4\n",
            "                variables with lower and upper bounds:        0\n",
            "                     variables with only upper bounds:        0\n",
            "Total number of equality constraints.................:        4\n",
            "Total number of inequality constraints...............:        0\n",
            "        inequality constraints with only lower bounds:        0\n",
            "   inequality constraints with lower and upper bounds:        0\n",
            "        inequality constraints with only upper bounds:        0\n",
            "\n",
            "iter    objective    inf_pr   inf_du lg(mu)  ||d||  lg(rg) alpha_du alpha_pr  ls\n",
            "   0  0.0000000e+00 2.00e+02 1.94e+00   0.0 0.00e+00    -  0.00e+00 0.00e+00   0\n",
            "   1 -7.4006855e+02 1.78e-14 5.38e+03  -0.1 5.46e+01    -  1.84e-04 1.00e+00f  1\n",
            "   2 -8.1067872e+02 2.48e-14 4.33e+03  -0.4 9.74e+01    -  1.00e+00 1.95e-01f  1\n",
            "   3 -8.1136240e+02 1.21e-14 7.57e-07  -1.1 1.89e-01    -  1.00e+00 1.00e+00f  1\n",
            "   4 -8.1142714e+02 1.79e-14 5.09e-05  -7.1 1.24e-01    -  9.85e-01 9.89e-01f  1\n",
            "   5 -8.1142857e+02 6.46e-15 9.78e-08  -9.0 3.07e-03    -  9.98e-01 9.98e-01f  1\n",
            "   6 -8.1142857e+02 2.79e-14 1.00e-16 -11.0 5.35e-06    -  1.00e+00 1.00e+00f  1\n",
            "\n",
            "Number of Iterations....: 6\n",
            "\n",
            "                                   (scaled)                 (unscaled)\n",
            "Objective...............:  -8.1142857146997960e+02   -8.1142857146997960e+02\n",
            "Dual infeasibility......:   1.0000000168623835e-16    1.0000000168623835e-16\n",
            "Constraint violation....:   2.7872750547044603e-14    2.7872750547044603e-14\n",
            "Complementarity.........:   1.0494504252114488e-11    1.0494504252114488e-11\n",
            "Overall NLP error.......:   1.0494504252114488e-11    1.0494504252114488e-11\n",
            "\n",
            "\n",
            "Number of objective function evaluations             = 7\n",
            "Number of objective gradient evaluations             = 7\n",
            "Number of equality constraint evaluations            = 7\n",
            "Number of inequality constraint evaluations          = 0\n",
            "Number of equality constraint Jacobian evaluations   = 7\n",
            "Number of inequality constraint Jacobian evaluations = 0\n",
            "Number of Lagrangian Hessian evaluations             = 6\n",
            "Total CPU secs in IPOPT (w/o function evaluations)   =      0.004\n",
            "Total CPU secs in NLP function evaluations           =      0.000\n",
            "\n",
            "EXIT: Optimal Solution Found.\n",
            " \n",
            " The solution was found.\n",
            " \n",
            " The final value of the objective function is   -811.428571469980     \n",
            " \n",
            " ---------------------------------------------------\n",
            " Solver         :  IPOPT (v3.12)\n",
            " Solution time  :   9.500000000116415E-003 sec\n",
            " Objective      :   -811.428571469980     \n",
            " Successful solution\n",
            " ---------------------------------------------------\n",
            " \n",
            "Make [11.42857143] small sets, and [62.85714286] large sets\n",
            "<class 'gekko.gk_operators.GK_Value'>\n"
          ]
        }
      ],
      "source": [
        "# !pip install gekko\n",
        "from gekko import GEKKO\n",
        "\n",
        "m = GEKKO()\n",
        "\n",
        "x1 = m.Var()\n",
        "x2 = m.Var()\n",
        "\n",
        "m.Equation(x1 >= 0)\n",
        "m.Equation(x2 >= 0)\n",
        "m.Equation(3*x1 + 2*x2 <= 160)\n",
        "m.Equation(x1 + 3*x2 <= 200)\n",
        "\n",
        "m.Maximize(5*x1 + 12*x2)\n",
        "\n",
        "re = m.solve()\n",
        "\n",
        "print('Make', x1.value,'small sets, and', x2.value, 'large sets')\n",
        "print(type(x1.value))"
      ]
    },
    {
      "attachments": {},
      "cell_type": "markdown",
      "id": "f4208fd5-f7b7-43d0-a292-aa429cb08ae8",
      "metadata": {
        "id": "f4208fd5-f7b7-43d0-a292-aa429cb08ae8"
      },
      "source": [
        "## Solving Chess Set Problem using CVXPY"
      ]
    },
    {
      "cell_type": "code",
      "execution_count": 5,
      "id": "1c2f2980-f3c5-4af7-9550-9a72afb1b83e",
      "metadata": {
        "colab": {
          "base_uri": "https://localhost:8080/"
        },
        "id": "1c2f2980-f3c5-4af7-9550-9a72afb1b83e",
        "outputId": "5c0a8397-941e-40f0-c438-7faaebbe888a"
      },
      "outputs": [
        {
          "name": "stdout",
          "output_type": "stream",
          "text": [
            "LP Solution:\n",
            "Profit = 811.43 $\n",
            "Make 11.0 small sets, and 63.0 large sets\n"
          ]
        }
      ],
      "source": [
        "# !pip install cvxpy\n",
        "import cvxpy as cp\n",
        "import numpy as np\n",
        "\n",
        "# Define the decision variables\n",
        "x1 = cp.Variable()\n",
        "x2 = cp.Variable()\n",
        "\n",
        "# Add constraints\n",
        "constraints = [3*x1 + 2*x2 <= 160, x1 + 3*x2 <= 200, x1 >= 0, x2 >= 0]\n",
        "\n",
        "# Set the profit as the objective function\n",
        "obj = cp.Maximize(5*x1 + 12*x2)\n",
        "\n",
        "# Solve the optimization problem\n",
        "prob = cp.Problem(obj, constraints)\n",
        "\n",
        "# print the results\n",
        "print('LP Solution:')\n",
        "print('Profit =', round(prob.solve(),2),'$')\n",
        "print('Make', np.round(x1.value),'small sets, and', np.round(x2.value), 'large sets')"
      ]
    },
    {
      "attachments": {},
      "cell_type": "markdown",
      "id": "kThKBVkn9c_8",
      "metadata": {
        "id": "kThKBVkn9c_8"
      },
      "source": [
        "## Solving Chess Set Problem using PyMathProg"
      ]
    },
    {
      "cell_type": "code",
      "execution_count": 6,
      "id": "49a76b11-3b59-45bb-9f7e-257f792d2644",
      "metadata": {
        "colab": {
          "base_uri": "https://localhost:8080/"
        },
        "id": "49a76b11-3b59-45bb-9f7e-257f792d2644",
        "outputId": "980e45b5-6ffa-437e-c48f-dc717dd8007e"
      },
      "outputs": [
        {
          "name": "stdout",
          "output_type": "stream",
          "text": [
            "LP Solution:\n",
            "Profit = 811.0 $\n",
            "\n",
            "PyMathProg 1.0 Sensitivity Report Created: 2025/01/12 Sun 19:01PM\n",
            "================================================================================\n",
            "Variable            Activity   Dual.Value     Obj.Coef   Range.From   Range.Till\n",
            "--------------------------------------------------------------------------------\n",
            "*x1                  11.4286            0            5            4           18\n",
            "*x2                  62.8571            0           12      3.33333           15\n",
            "================================================================================\n",
            "================================================================================\n",
            "Constraint       Activity Dual.Value  Lower.Bnd  Upper.Bnd RangeLower RangeUpper\n",
            "--------------------------------------------------------------------------------\n",
            " R1                   160   0.428571       -inf        160    133.333        600\n",
            " R2                   200    3.71429       -inf        200    53.3333        240\n",
            "================================================================================\n"
          ]
        },
        {
          "name": "stderr",
          "output_type": "stream",
          "text": [
            "<string>:3: SyntaxWarning: invalid escape sequence '\\ '\n",
            "<string>:3: SyntaxWarning: invalid escape sequence '\\ '\n",
            "<string>:3: SyntaxWarning: invalid escape sequence '\\ '\n",
            "<string>:3: SyntaxWarning: invalid escape sequence '\\-'\n"
          ]
        }
      ],
      "source": [
        "# !pip install pymprog\n",
        "from pymprog import *\n",
        "\n",
        "begin('model')\n",
        "\n",
        "x1 = var('x1')\n",
        "x1.kind = int\n",
        "x2 = var('x2')\n",
        "x2.kind = int\n",
        "\n",
        "maximize(5*x1 + 12*x2, 'profit')\n",
        "\n",
        "x1 >= 0\n",
        "x2 >= 0\n",
        "3*x1 + 2*x2 <= 160\n",
        "x1 + 3*x2 <= 200\n",
        "\n",
        "solve()\n",
        "print('LP Solution:')\n",
        "print('Profit =', round(vobj(),2),'$')\n",
        "sensitivity()"
      ]
    },
    {
      "attachments": {},
      "cell_type": "markdown",
      "id": "436da2af-7fbf-48cb-b42b-be15e6bb0015",
      "metadata": {
        "id": "436da2af-7fbf-48cb-b42b-be15e6bb0015"
      },
      "source": [
        "## Solving Chess Set Problem using cvxopt"
      ]
    },
    {
      "cell_type": "code",
      "execution_count": 7,
      "id": "4436086e-e71e-4e5e-ad76-c3cdd8288c87",
      "metadata": {
        "colab": {
          "base_uri": "https://localhost:8080/"
        },
        "id": "4436086e-e71e-4e5e-ad76-c3cdd8288c87",
        "outputId": "47334cfa-c9fe-4164-9649-2548bf565d38"
      },
      "outputs": [
        {
          "name": "stdout",
          "output_type": "stream",
          "text": [
            "     pcost       dcost       gap    pres   dres   k/t\n",
            " 0: -7.4247e+02 -1.5315e+03  2e+02  1e-02  8e-01  1e+00\n",
            " 1: -8.1089e+02 -8.5162e+02  8e+00  6e-04  4e-02  5e-01\n",
            " 2: -8.1139e+02 -8.1205e+02  1e-01  1e-05  7e-04  8e-03\n",
            " 3: -8.1143e+02 -8.1143e+02  1e-03  1e-07  7e-06  8e-05\n",
            " 4: -8.1143e+02 -8.1143e+02  1e-05  1e-09  7e-08  8e-07\n",
            "Optimal solution found.\n",
            "Make [ 1.14e+01]\n",
            " small sets, and [ 6.29e+01]\n",
            " large sets\n"
          ]
        }
      ],
      "source": [
        "# !pip install cvxopt\n",
        "from cvxopt.modeling import variable, op, max, sum\n",
        "\n",
        "x1 = variable()\n",
        "x2 = variable()\n",
        "\n",
        "c1 = ( 3*x1+2*x2 <= 160 )\n",
        "c2 = ( x1+3*x2 <= 200 )\n",
        "c3 = ( x1 >= 0 )\n",
        "c4 = ( x2 >= 0 )\n",
        "\n",
        "lp1 = op(-5*x1-12*x2, [c1,c2,c3,c4])\n",
        "lp1.solve()\n",
        "print('Make', x1.value,'small sets, and', x2.value, 'large sets')"
      ]
    },
    {
      "attachments": {},
      "cell_type": "markdown",
      "id": "AkvE3VciLcu5",
      "metadata": {
        "id": "AkvE3VciLcu5"
      },
      "source": [
        "## Solving Chess Set Problem using OptLang"
      ]
    },
    {
      "cell_type": "code",
      "execution_count": 8,
      "id": "710a84c4-0347-41e9-9495-fb0b547d04d1",
      "metadata": {
        "colab": {
          "base_uri": "https://localhost:8080/"
        },
        "id": "710a84c4-0347-41e9-9495-fb0b547d04d1",
        "outputId": "a9bd112a-dc38-48af-df52-fe1c97feb0be"
      },
      "outputs": [
        {
          "name": "stdout",
          "output_type": "stream",
          "text": [
            "LP Solution: 811.43 $\n",
            "Make 11.0 small sets, and 63.0 large sets\n"
          ]
        }
      ],
      "source": [
        "# !pip install optlang\n",
        "from optlang import Model, Variable, Constraint, Objective\n",
        "\n",
        "x1 = Variable('x1', lb=0)\n",
        "x2 = Variable('x2', lb=0)\n",
        "\n",
        "c1 = Constraint(3 * x1 + 2 * x2, ub=160)\n",
        "c2 = Constraint(x1 + 3 * x2, ub=200)\n",
        "\n",
        "obj = Objective(5 * x1 + 12 * x2, direction='max')\n",
        "\n",
        "model = Model(name='Simple model')\n",
        "model.objective = obj\n",
        "model.add([c1, c2])\n",
        "status = model.optimize()\n",
        "\n",
        "print(\"LP Solution:\", round(model.objective.value,2),'$')\n",
        "result = []\n",
        "for var_name, var in model.variables.items():\n",
        "    result.append('%.1f'%round(var.primal))\n",
        "print('Make', result[0],'small sets, and', result[1], 'large sets')"
      ]
    },
    {
      "attachments": {},
      "cell_type": "markdown",
      "id": "1yhqwf-CWM7_",
      "metadata": {
        "id": "1yhqwf-CWM7_"
      },
      "source": [
        "## Solving Chess Set Problem using PICOS"
      ]
    },
    {
      "cell_type": "code",
      "execution_count": 9,
      "id": "d4cbaba1-d931-4f7f-8878-f421b18c0e78",
      "metadata": {
        "colab": {
          "base_uri": "https://localhost:8080/"
        },
        "id": "d4cbaba1-d931-4f7f-8878-f421b18c0e78",
        "outputId": "423bcd3d-de06-4732-c8f5-7b683e67dc02"
      },
      "outputs": [
        {
          "name": "stdout",
          "output_type": "stream",
          "text": [
            "LP Solution:\n",
            "Profit: = 811.428571241671 $\n",
            "Make 11.0 small sets, and make 63.0 large sets\n"
          ]
        }
      ],
      "source": [
        "# !pip install picos\n",
        "import picos as pico\n",
        "\n",
        "# Define the problem\n",
        "prob = pico.Problem(\"ChessSet\")\n",
        "\n",
        "\n",
        "# Define the variables\n",
        "x1 = pico.RealVariable(\"x1\", lower = 0)\n",
        "x2 = pico.RealVariable(\"x2\", lower = 0)\n",
        "\n",
        "# Define the constraints\n",
        "prob.add_constraint(x1 >= 0)\n",
        "prob.add_constraint(x2 >= 0)\n",
        "prob.add_constraint(3*x1 + 2*x2 <= 160)\n",
        "prob.add_constraint(x1 + 3*x2 <= 200)\n",
        "\n",
        "# Define the objective function\n",
        "prob.set_objective('max', 5*x1 + 12*x2)\n",
        "\n",
        "# Solve the LP\n",
        "prob.solve(solver='cvxopt')\n",
        "\n",
        "# print the results\n",
        "print('LP Solution:')\n",
        "print(f'Profit: = {prob.value} $')\n",
        "print(f'Make {round(x1,0)} small sets, and make {round(x2,0)} large sets')"
      ]
    }
  ],
  "metadata": {
    "colab": {
      "provenance": []
    },
    "kernelspec": {
      "display_name": "ox",
      "language": "python",
      "name": "python3"
    },
    "language_info": {
      "codemirror_mode": {
        "name": "ipython",
        "version": 3
      },
      "file_extension": ".py",
      "mimetype": "text/x-python",
      "name": "python",
      "nbconvert_exporter": "python",
      "pygments_lexer": "ipython3",
      "version": "3.13.1"
    },
    "vscode": {
      "interpreter": {
        "hash": "899ff88a75886fc7a7b40f2d92fee8f59f6284588a3bf99939bb8f65c5caf859"
      }
    }
  },
  "nbformat": 4,
  "nbformat_minor": 5
}
